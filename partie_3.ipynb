{
 "cells": [
  {
   "cell_type": "markdown",
   "metadata": {},
   "source": [
    "# PARTIE 3 : Régularisation du modèle"
   ]
  },
  {
   "cell_type": "markdown",
   "metadata": {},
   "source": [
    "Nous entraînons un modèle de régression régularisé pour combattre l'overfitting que l'on a avec un modèle de base."
   ]
  },
  {
   "cell_type": "markdown",
   "metadata": {},
   "source": [
    "## Import librairies"
   ]
  },
  {
   "cell_type": "code",
   "execution_count": 10,
   "metadata": {},
   "outputs": [],
   "source": [
    "import pandas as pd\n",
    "import numpy as np\n",
    "from sklearn.model_selection import train_test_split\n",
    "from sklearn.pipeline import Pipeline\n",
    "from sklearn.preprocessing import OneHotEncoder, StandardScaler\n",
    "from sklearn.compose import ColumnTransformer\n",
    "from sklearn.linear_model import Ridge\n",
    "from sklearn.linear_model import Lasso\n",
    "from sklearn.model_selection import cross_val_score, GridSearchCV\n",
    "from sklearn.metrics import r2_score\n",
    "from sklearn import metrics\n",
    "\n",
    "import warnings\n",
    "warnings.filterwarnings('ignore', category=DeprecationWarning)"
   ]
  },
  {
   "cell_type": "markdown",
   "metadata": {},
   "source": [
    "## Import des données"
   ]
  },
  {
   "cell_type": "code",
   "execution_count": 11,
   "metadata": {},
   "outputs": [
    {
     "data": {
      "text/html": [
       "<div>\n",
       "<style scoped>\n",
       "    .dataframe tbody tr th:only-of-type {\n",
       "        vertical-align: middle;\n",
       "    }\n",
       "\n",
       "    .dataframe tbody tr th {\n",
       "        vertical-align: top;\n",
       "    }\n",
       "\n",
       "    .dataframe thead th {\n",
       "        text-align: right;\n",
       "    }\n",
       "</style>\n",
       "<table border=\"1\" class=\"dataframe\">\n",
       "  <thead>\n",
       "    <tr style=\"text-align: right;\">\n",
       "      <th></th>\n",
       "      <th>Store</th>\n",
       "      <th>Day</th>\n",
       "      <th>Month</th>\n",
       "      <th>Year</th>\n",
       "      <th>Weekly_Sales</th>\n",
       "      <th>Holiday_Flag</th>\n",
       "      <th>Temperature</th>\n",
       "      <th>Fuel_Price</th>\n",
       "      <th>CPI</th>\n",
       "      <th>Unemployment</th>\n",
       "    </tr>\n",
       "  </thead>\n",
       "  <tbody>\n",
       "    <tr>\n",
       "      <th>0</th>\n",
       "      <td>6.0</td>\n",
       "      <td>18</td>\n",
       "      <td>2</td>\n",
       "      <td>2011</td>\n",
       "      <td>1572117.54</td>\n",
       "      <td>0.0</td>\n",
       "      <td>59.61</td>\n",
       "      <td>3.045</td>\n",
       "      <td>214.777523</td>\n",
       "      <td>6.858</td>\n",
       "    </tr>\n",
       "    <tr>\n",
       "      <th>1</th>\n",
       "      <td>13.0</td>\n",
       "      <td>25</td>\n",
       "      <td>3</td>\n",
       "      <td>2011</td>\n",
       "      <td>1807545.43</td>\n",
       "      <td>0.0</td>\n",
       "      <td>42.38</td>\n",
       "      <td>3.435</td>\n",
       "      <td>128.616064</td>\n",
       "      <td>7.470</td>\n",
       "    </tr>\n",
       "    <tr>\n",
       "      <th>2</th>\n",
       "      <td>6.0</td>\n",
       "      <td>28</td>\n",
       "      <td>5</td>\n",
       "      <td>2010</td>\n",
       "      <td>1644470.66</td>\n",
       "      <td>0.0</td>\n",
       "      <td>78.89</td>\n",
       "      <td>2.759</td>\n",
       "      <td>212.412888</td>\n",
       "      <td>7.092</td>\n",
       "    </tr>\n",
       "    <tr>\n",
       "      <th>3</th>\n",
       "      <td>4.0</td>\n",
       "      <td>28</td>\n",
       "      <td>5</td>\n",
       "      <td>2010</td>\n",
       "      <td>1857533.70</td>\n",
       "      <td>0.0</td>\n",
       "      <td>60.77</td>\n",
       "      <td>2.756</td>\n",
       "      <td>126.160226</td>\n",
       "      <td>7.896</td>\n",
       "    </tr>\n",
       "    <tr>\n",
       "      <th>4</th>\n",
       "      <td>15.0</td>\n",
       "      <td>3</td>\n",
       "      <td>6</td>\n",
       "      <td>2011</td>\n",
       "      <td>695396.19</td>\n",
       "      <td>0.0</td>\n",
       "      <td>69.80</td>\n",
       "      <td>4.069</td>\n",
       "      <td>134.855161</td>\n",
       "      <td>7.658</td>\n",
       "    </tr>\n",
       "  </tbody>\n",
       "</table>\n",
       "</div>"
      ],
      "text/plain": [
       "   Store  Day  Month  Year  Weekly_Sales  Holiday_Flag  Temperature  \\\n",
       "0    6.0   18      2  2011    1572117.54           0.0        59.61   \n",
       "1   13.0   25      3  2011    1807545.43           0.0        42.38   \n",
       "2    6.0   28      5  2010    1644470.66           0.0        78.89   \n",
       "3    4.0   28      5  2010    1857533.70           0.0        60.77   \n",
       "4   15.0    3      6  2011     695396.19           0.0        69.80   \n",
       "\n",
       "   Fuel_Price         CPI  Unemployment  \n",
       "0       3.045  214.777523         6.858  \n",
       "1       3.435  128.616064         7.470  \n",
       "2       2.759  212.412888         7.092  \n",
       "3       2.756  126.160226         7.896  \n",
       "4       4.069  134.855161         7.658  "
      ]
     },
     "execution_count": 11,
     "metadata": {},
     "output_type": "execute_result"
    }
   ],
   "source": [
    "dataset = pd.read_csv('./src/dataset_for_ml.csv')\n",
    "dataset.drop(['Date'], axis=1, inplace=True)\n",
    "dataset.head()"
   ]
  },
  {
   "cell_type": "markdown",
   "metadata": {},
   "source": [
    "## Preprocessings avec Sklearn"
   ]
  },
  {
   "cell_type": "code",
   "execution_count": 12,
   "metadata": {},
   "outputs": [
    {
     "name": "stdout",
     "output_type": "stream",
     "text": [
      "Separating labels from features...\n",
      "...Done\n",
      "\n",
      "y:\n",
      "   Weekly_Sales\n",
      "0    1572117.54\n",
      "1    1807545.43\n",
      "2    1644470.66\n",
      "3    1857533.70\n",
      "4     695396.19\n",
      "\n",
      "X:\n",
      "   Store  Day  Month  Year  Holiday_Flag  Temperature  Fuel_Price         CPI  \\\n",
      "0    6.0   18      2  2011           0.0        59.61       3.045  214.777523   \n",
      "1   13.0   25      3  2011           0.0        42.38       3.435  128.616064   \n",
      "2    6.0   28      5  2010           0.0        78.89       2.759  212.412888   \n",
      "3    4.0   28      5  2010           0.0        60.77       2.756  126.160226   \n",
      "4   15.0    3      6  2011           0.0        69.80       4.069  134.855161   \n",
      "\n",
      "   Unemployment  \n",
      "0         6.858  \n",
      "1         7.470  \n",
      "2         7.092  \n",
      "3         7.896  \n",
      "4         7.658  \n",
      "\n",
      "Dividing into train set and test set...\n",
      "...Done\n",
      "\n",
      "Performing preprocessings on train set...\n",
      "     Store  Day  Month  Year  Holiday_Flag  Temperature  Fuel_Price  \\\n",
      "109    7.0   25      5  2012           0.0        50.60       3.804   \n",
      "13     6.0   30      4  2010           0.0        68.91       2.780   \n",
      "63    15.0   16      3  2012           0.0        47.42       4.021   \n",
      "71     9.0    9      7  2010           0.0        78.51       2.642   \n",
      "26     7.0   10      2  2012           1.0        18.79       3.103   \n",
      "\n",
      "            CPI  Unemployment  \n",
      "109  197.588605         8.090  \n",
      "13   211.894272         7.092  \n",
      "63   137.584387         7.943  \n",
      "71   214.656430         6.442  \n",
      "26   196.919506         8.256  \n",
      "...Done\n",
      "[[ 1.00479387 -0.4864211   1.29732633 -0.62993689  1.15793519  0.48636272\n",
      "   0.8273496   0.          0.          0.          0.          0.\n",
      "   1.          0.          0.          0.          0.          0.\n",
      "   0.          0.          0.          0.          0.          0.\n",
      "   0.          0.        ]\n",
      " [ 1.60182688 -0.80175616 -1.11749892  0.44730295 -1.2052199   0.85457633\n",
      "  -0.25140508  0.          0.          0.          0.          1.\n",
      "   0.          0.          0.          0.          0.          0.\n",
      "   0.          0.          0.          0.          0.          0.\n",
      "   0.          0.        ]\n",
      " [-0.06986557 -1.11709121  1.29732633 -0.81702715  1.65872099 -1.05808595\n",
      "   0.66845488  0.          0.          0.          0.          0.\n",
      "   0.          0.          0.          0.          0.          0.\n",
      "   0.          1.          0.          0.          0.          0.\n",
      "   0.          0.        ]\n",
      " [-0.90571179  0.14424902 -1.11749892  1.01210374 -1.52369197  0.92567151\n",
      "  -0.95400082  0.          0.          0.          0.          0.\n",
      "   0.          0.          1.          0.          0.          0.\n",
      "   0.          0.          0.          0.          0.          0.\n",
      "   0.          0.        ]\n",
      " [-0.78630519 -1.43242627  1.29732633 -2.50142784 -0.45981063  0.46914078\n",
      "   1.00678175  0.          0.          0.          0.          0.\n",
      "   1.          0.          0.          0.          0.          0.\n",
      "   0.          0.          0.          0.          0.          0.\n",
      "   0.          1.        ]]\n",
      "\n",
      "Performing preprocessings on test set:\n",
      "    Store  Day  Month  Year  Holiday_Flag  Temperature  Fuel_Price  \\\n",
      "86   18.0   28      5  2010           0.0        69.12       2.906   \n",
      "85    8.0   12      2  2010           1.0        33.34       2.548   \n",
      "94    9.0   18      6  2010           0.0        82.99       2.637   \n",
      "8     8.0   19      8  2011           0.0        82.92       3.554   \n",
      "89    2.0   19      2  2010           0.0        39.69       2.514   \n",
      "\n",
      "           CPI  Unemployment  \n",
      "86  132.293936         7.650  \n",
      "85  214.621419         6.299  \n",
      "94  215.016648         6.384  \n",
      "8   219.070197         6.425  \n",
      "89  210.945160         7.650  \n",
      "...Done\n",
      "[[ 1.36301368 -0.4864211  -1.11749892  0.45965797 -0.91444105 -1.19425689\n",
      "   0.35174634  0.          0.          0.          0.          0.\n",
      "   0.          0.          0.          0.          0.          0.\n",
      "   0.          0.          0.          0.          1.          0.\n",
      "   0.          0.        ]\n",
      " [-0.54749198 -1.43242627 -1.11749892 -1.64540165 -1.74062223  0.92477036\n",
      "  -1.10857189  0.          0.          0.          0.          0.\n",
      "   0.          1.          0.          0.          0.          0.\n",
      "   0.          0.          0.          0.          0.          0.\n",
      "   0.          1.        ]\n",
      " [ 0.16894764 -0.17108604 -1.11749892  1.27567744 -1.53523082  0.93494317\n",
      "  -1.01669398  0.          0.          0.          0.          0.\n",
      "   0.          0.          1.          0.          0.          0.\n",
      "   0.          0.          0.          0.          0.          0.\n",
      "   0.          0.        ]\n",
      " [ 0.28835424  0.45958407  0.08991371  1.2715591   0.58099303  1.03927746\n",
      "  -0.9723764   0.          0.          0.          0.          0.\n",
      "   0.          1.          0.          0.          0.          0.\n",
      "   0.          0.          0.          0.          0.          0.\n",
      "   0.          0.        ]\n",
      " [ 0.28835424 -1.43242627 -1.11749892 -1.27180946 -1.81908636  0.83014714\n",
      "   0.35174634  1.          0.          0.          0.          0.\n",
      "   0.          0.          0.          0.          0.          0.\n",
      "   0.          0.          0.          0.          0.          0.\n",
      "   0.          0.        ]]\n",
      "\n"
     ]
    }
   ],
   "source": [
    "# Seperate target variable y from features X:\n",
    "target_variable = ['Weekly_Sales']\n",
    "print('Separating labels from features...')\n",
    "y = dataset.loc[:,target_variable]\n",
    "X = dataset.drop(target_variable, axis = 1)\n",
    "print('...Done')\n",
    "print()\n",
    "print('y:')\n",
    "print(y.head())\n",
    "print()\n",
    "print('X:')\n",
    "print(X.head())\n",
    "print()\n",
    "\n",
    "# Divide dataset into train set and test set:\n",
    "print('Dividing into train set and test set...')\n",
    "X_train, X_test, y_train, y_test = train_test_split(X, y, test_size=0.2, random_state=0)\n",
    "print('...Done')\n",
    "print()\n",
    "\n",
    "# Distinguish numeric and categorical features:\n",
    "numeric_features = ['Day', 'Month', 'Year', 'Temperature', 'Fuel_Price', 'CPI', 'Unemployment']\n",
    "categorical_features = ['Store', 'Holiday_Flag']\n",
    "\n",
    "# Create pipeline for numeric features:\n",
    "numeric_transformer = Pipeline(steps=[\n",
    "    ('scaler', StandardScaler())\n",
    "])\n",
    "\n",
    "# Create pipeline for categorical features:\n",
    "categorical_transformer = Pipeline(steps=[\n",
    "    ('encoder', OneHotEncoder(drop='first'))\n",
    "])\n",
    "\n",
    "# Use ColumnTransformer to make a preprocessor object that describes all the treatments to be done:\n",
    "preprocessor = ColumnTransformer(\n",
    "    transformers=[\n",
    "        ('num', numeric_transformer, numeric_features),\n",
    "        ('cat', categorical_transformer, categorical_features)\n",
    "    ]\n",
    ")\n",
    "\n",
    "# Preprocessings on train set:\n",
    "print('Performing preprocessings on train set...')\n",
    "print(X_train.head())\n",
    "X_train = preprocessor.fit_transform(X_train)\n",
    "print('...Done')\n",
    "print(X_train[0:5])\n",
    "print()\n",
    "\n",
    "# Preprocessings on test set:\n",
    "print('Performing preprocessings on test set:')\n",
    "print(X_test.head())\n",
    "X_test = preprocessor.transform(X_test)\n",
    "print('...Done')\n",
    "print(X_test[0:5])\n",
    "print()"
   ]
  },
  {
   "cell_type": "code",
   "execution_count": 540,
   "metadata": {},
   "outputs": [
    {
     "data": {
      "text/html": [
       "<div>\n",
       "<style scoped>\n",
       "    .dataframe tbody tr th:only-of-type {\n",
       "        vertical-align: middle;\n",
       "    }\n",
       "\n",
       "    .dataframe tbody tr th {\n",
       "        vertical-align: top;\n",
       "    }\n",
       "\n",
       "    .dataframe thead th {\n",
       "        text-align: right;\n",
       "    }\n",
       "</style>\n",
       "<table border=\"1\" class=\"dataframe\">\n",
       "  <thead>\n",
       "    <tr style=\"text-align: right;\">\n",
       "      <th></th>\n",
       "      <th>Store</th>\n",
       "      <th>Day</th>\n",
       "      <th>Month</th>\n",
       "      <th>Year</th>\n",
       "      <th>Weekly_Sales</th>\n",
       "      <th>Holiday_Flag</th>\n",
       "      <th>Temperature</th>\n",
       "      <th>Fuel_Price</th>\n",
       "      <th>CPI</th>\n",
       "      <th>Unemployment</th>\n",
       "    </tr>\n",
       "  </thead>\n",
       "  <tbody>\n",
       "    <tr>\n",
       "      <th>0</th>\n",
       "      <td>6.0</td>\n",
       "      <td>18</td>\n",
       "      <td>2</td>\n",
       "      <td>2011</td>\n",
       "      <td>1572117.54</td>\n",
       "      <td>0.0</td>\n",
       "      <td>59.61</td>\n",
       "      <td>3.045</td>\n",
       "      <td>214.777523</td>\n",
       "      <td>6.858</td>\n",
       "    </tr>\n",
       "    <tr>\n",
       "      <th>1</th>\n",
       "      <td>13.0</td>\n",
       "      <td>25</td>\n",
       "      <td>3</td>\n",
       "      <td>2011</td>\n",
       "      <td>1807545.43</td>\n",
       "      <td>0.0</td>\n",
       "      <td>42.38</td>\n",
       "      <td>3.435</td>\n",
       "      <td>128.616064</td>\n",
       "      <td>7.470</td>\n",
       "    </tr>\n",
       "    <tr>\n",
       "      <th>2</th>\n",
       "      <td>6.0</td>\n",
       "      <td>28</td>\n",
       "      <td>5</td>\n",
       "      <td>2010</td>\n",
       "      <td>1644470.66</td>\n",
       "      <td>0.0</td>\n",
       "      <td>78.89</td>\n",
       "      <td>2.759</td>\n",
       "      <td>212.412888</td>\n",
       "      <td>7.092</td>\n",
       "    </tr>\n",
       "    <tr>\n",
       "      <th>3</th>\n",
       "      <td>4.0</td>\n",
       "      <td>28</td>\n",
       "      <td>5</td>\n",
       "      <td>2010</td>\n",
       "      <td>1857533.70</td>\n",
       "      <td>0.0</td>\n",
       "      <td>60.77</td>\n",
       "      <td>2.756</td>\n",
       "      <td>126.160226</td>\n",
       "      <td>7.896</td>\n",
       "    </tr>\n",
       "    <tr>\n",
       "      <th>4</th>\n",
       "      <td>15.0</td>\n",
       "      <td>3</td>\n",
       "      <td>6</td>\n",
       "      <td>2011</td>\n",
       "      <td>695396.19</td>\n",
       "      <td>0.0</td>\n",
       "      <td>69.80</td>\n",
       "      <td>4.069</td>\n",
       "      <td>134.855161</td>\n",
       "      <td>7.658</td>\n",
       "    </tr>\n",
       "  </tbody>\n",
       "</table>\n",
       "</div>"
      ],
      "text/plain": [
       "   Store  Day  Month  Year  Weekly_Sales  Holiday_Flag  Temperature  \\\n",
       "0    6.0   18      2  2011    1572117.54           0.0        59.61   \n",
       "1   13.0   25      3  2011    1807545.43           0.0        42.38   \n",
       "2    6.0   28      5  2010    1644470.66           0.0        78.89   \n",
       "3    4.0   28      5  2010    1857533.70           0.0        60.77   \n",
       "4   15.0    3      6  2011     695396.19           0.0        69.80   \n",
       "\n",
       "   Fuel_Price         CPI  Unemployment  \n",
       "0       3.045  214.777523         6.858  \n",
       "1       3.435  128.616064         7.470  \n",
       "2       2.759  212.412888         7.092  \n",
       "3       2.756  126.160226         7.896  \n",
       "4       4.069  134.855161         7.658  "
      ]
     },
     "execution_count": 540,
     "metadata": {},
     "output_type": "execute_result"
    }
   ],
   "source": [
    "dataset.head()"
   ]
  },
  {
   "cell_type": "markdown",
   "metadata": {},
   "source": [
    "# A. Modèle de régression Ridge\n",
    "\n",
    "Nous essayons ici le modèle de régression linéaire régularisé Ridge.\n",
    "\n",
    "Selon la documentation, le modèle Ridge est adapté lorsque nous avons des variables fortement corrélées entre elles. \n",
    "\n",
    "C'est le cas des variables Month avec Temperature, ou encore des variables Fuel_Price et Year.\n",
    "\n",
    "(Voir la matrice de corrélation dans le notebook partie_1.ipynb)"
   ]
  },
  {
   "cell_type": "markdown",
   "metadata": {},
   "source": [
    "## Recherche du meilleur alpha\n",
    "\n",
    "Nous recherchons le meilleur hyperparamètre de régularisation alpha pour notre modèle de régression linéaire Ridge."
   ]
  },
  {
   "cell_type": "code",
   "execution_count": 528,
   "metadata": {},
   "outputs": [
    {
     "name": "stdout",
     "output_type": "stream",
     "text": [
      "10\n"
     ]
    },
    {
     "data": {
      "text/plain": [
       "[1.05, 1.1, 1.15, 1.2, 1.25, 1.3, 1.35, 1.4, 1.45, 1.5]"
      ]
     },
     "execution_count": 528,
     "metadata": {},
     "output_type": "execute_result"
    }
   ],
   "source": [
    "alphas = [i / 100 for i in range(105, 155, 5)]\n",
    "print(len(alphas))\n",
    "alphas"
   ]
  },
  {
   "cell_type": "code",
   "execution_count": 529,
   "metadata": {},
   "outputs": [
    {
     "name": "stdout",
     "output_type": "stream",
     "text": [
      "{'alpha': 1.05}\n",
      "0.792742666765531\n"
     ]
    }
   ],
   "source": [
    "param_grid = {'alpha': alphas}\n",
    "ridge = Ridge()\n",
    "\n",
    "best_ridge = GridSearchCV(estimator=ridge, param_grid=param_grid, cv=5)\n",
    "best_ridge.fit(X_train, y_train)\n",
    "\n",
    "print(best_ridge.best_params_)\n",
    "print(best_ridge.best_score_)"
   ]
  },
  {
   "cell_type": "code",
   "execution_count": 530,
   "metadata": {},
   "outputs": [
    {
     "name": "stdout",
     "output_type": "stream",
     "text": [
      "RIDGE, R2 score on training set :  0.9277751177126579\n",
      "RIDGE, R2 score on test set :  0.9250674465901909\n"
     ]
    }
   ],
   "source": [
    "print(\"RIDGE, R2 score on train set : \", best_ridge.score(X_train, y_train))\n",
    "print(\"RIDGE, R2 score on test set : \", best_ridge.score(X_test, y_test))"
   ]
  },
  {
   "cell_type": "markdown",
   "metadata": {},
   "source": [
    "## Résultats & performance\n",
    "\n",
    "Avec une valeur alpha de 1.05, on obtient un R2 score de 0.9277 et de 0.9250 sur le train set et le test set.\n",
    "\n",
    "--> Grâce à la régularisation nous avons réussi à minimiser l'écart entre le R2 score en phase de train et de test, tout en conservant une valeur élevée et la plus proche de 1."
   ]
  },
  {
   "cell_type": "markdown",
   "metadata": {},
   "source": [
    "## Importance des features"
   ]
  },
  {
   "cell_type": "code",
   "execution_count": 775,
   "metadata": {},
   "outputs": [],
   "source": [
    "# Get the names and coefficients of the features:\n",
    "feature_names_out = preprocessor.get_feature_names_out()\n",
    "feature_names = [fname for fname in feature_names_out]\n",
    "coefs = pd.DataFrame(index = feature_names, data = best_ridge.best_estimator_.coef_.transpose(), columns=[\"coefficients\"])"
   ]
  },
  {
   "cell_type": "code",
   "execution_count": 770,
   "metadata": {},
   "outputs": [],
   "source": [
    "negative_coefs = feature_importance[feature_importance['coefficients']<0]"
   ]
  },
  {
   "cell_type": "code",
   "execution_count": 771,
   "metadata": {},
   "outputs": [],
   "source": [
    "# Compute abs() and sort values:\n",
    "feature_importance_abs = abs(coefs).sort_values(by='coefficients', ascending=False)"
   ]
  },
  {
   "cell_type": "code",
   "execution_count": 773,
   "metadata": {},
   "outputs": [
    {
     "data": {
      "text/html": [
       "<div>\n",
       "<style scoped>\n",
       "    .dataframe tbody tr th:only-of-type {\n",
       "        vertical-align: middle;\n",
       "    }\n",
       "\n",
       "    .dataframe tbody tr th {\n",
       "        vertical-align: top;\n",
       "    }\n",
       "\n",
       "    .dataframe thead th {\n",
       "        text-align: right;\n",
       "    }\n",
       "</style>\n",
       "<table border=\"1\" class=\"dataframe\">\n",
       "  <thead>\n",
       "    <tr style=\"text-align: right;\">\n",
       "      <th></th>\n",
       "      <th>cat__Store_3.0</th>\n",
       "      <th>cat__Store_5.0</th>\n",
       "      <th>cat__Store_7.0</th>\n",
       "      <th>cat__Store_4.0</th>\n",
       "      <th>cat__Store_9.0</th>\n",
       "      <th>cat__Store_16.0</th>\n",
       "      <th>cat__Store_14.0</th>\n",
       "      <th>cat__Store_15.0</th>\n",
       "      <th>cat__Store_13.0</th>\n",
       "      <th>cat__Store_2.0</th>\n",
       "      <th>...</th>\n",
       "      <th>cat__Store_11.0</th>\n",
       "      <th>num__Month</th>\n",
       "      <th>num__Temperature</th>\n",
       "      <th>num__Unemployment</th>\n",
       "      <th>num__Day</th>\n",
       "      <th>num__CPI</th>\n",
       "      <th>num__Year</th>\n",
       "      <th>num__Fuel_Price</th>\n",
       "      <th>cat__Store_19.0</th>\n",
       "      <th>cat__Holiday_Flag_1.0</th>\n",
       "    </tr>\n",
       "  </thead>\n",
       "  <tbody>\n",
       "    <tr>\n",
       "      <th>coefficients</th>\n",
       "      <td>812626.244852</td>\n",
       "      <td>806541.116966</td>\n",
       "      <td>723944.313109</td>\n",
       "      <td>682916.326195</td>\n",
       "      <td>594121.552512</td>\n",
       "      <td>593707.712621</td>\n",
       "      <td>584652.981227</td>\n",
       "      <td>547302.587453</td>\n",
       "      <td>522918.107469</td>\n",
       "      <td>515016.691722</td>\n",
       "      <td>...</td>\n",
       "      <td>191758.698132</td>\n",
       "      <td>64438.118174</td>\n",
       "      <td>52766.709411</td>\n",
       "      <td>46360.71976</td>\n",
       "      <td>41016.019184</td>\n",
       "      <td>37458.378135</td>\n",
       "      <td>25203.894326</td>\n",
       "      <td>22245.652215</td>\n",
       "      <td>5319.130511</td>\n",
       "      <td>1545.060013</td>\n",
       "    </tr>\n",
       "  </tbody>\n",
       "</table>\n",
       "<p>1 rows × 26 columns</p>\n",
       "</div>"
      ],
      "text/plain": [
       "              cat__Store_3.0  cat__Store_5.0  cat__Store_7.0  cat__Store_4.0  \\\n",
       "coefficients   812626.244852   806541.116966   723944.313109   682916.326195   \n",
       "\n",
       "              cat__Store_9.0  cat__Store_16.0  cat__Store_14.0  \\\n",
       "coefficients   594121.552512    593707.712621    584652.981227   \n",
       "\n",
       "              cat__Store_15.0  cat__Store_13.0  cat__Store_2.0  ...  \\\n",
       "coefficients    547302.587453    522918.107469   515016.691722  ...   \n",
       "\n",
       "              cat__Store_11.0    num__Month  num__Temperature  \\\n",
       "coefficients    191758.698132  64438.118174      52766.709411   \n",
       "\n",
       "              num__Unemployment      num__Day      num__CPI     num__Year  \\\n",
       "coefficients        46360.71976  41016.019184  37458.378135  25203.894326   \n",
       "\n",
       "              num__Fuel_Price  cat__Store_19.0  cat__Holiday_Flag_1.0  \n",
       "coefficients     22245.652215      5319.130511            1545.060013  \n",
       "\n",
       "[1 rows x 26 columns]"
      ]
     },
     "execution_count": 773,
     "metadata": {},
     "output_type": "execute_result"
    }
   ],
   "source": [
    "feature_importance_abs = feature_importance_abs.transpose()\n",
    "feature_importance_abs"
   ]
  },
  {
   "cell_type": "code",
   "execution_count": 774,
   "metadata": {},
   "outputs": [
    {
     "data": {
      "image/png": "[encoded data removed]",
      "text/plain": [
       "<Figure size 1000x350 with 1 Axes>"
      ]
     },
     "metadata": {},
     "output_type": "display_data"
    }
   ],
   "source": [
    "# Plot coefficients (in absolute value):\n",
    "import seaborn as sns\n",
    "import matplotlib.pyplot as plt \n",
    "\n",
    "colors = ['deeppink' if y in negative_coefs.index else 'limegreen' for y in feature_importance_abs.columns]\n",
    "sns.set(rc={'figure.figsize':(10, 3.5)}, style='white')\n",
    "sns.barplot(data = feature_importance_abs,orient = 'v', palette = colors, width = .9, edgecolor = 'black')\n",
    "plt.title('Features importance in the Ridge Model', fontsize=12.5, pad=20)\n",
    "plt.xlabel('Colors : pink for negative coefficients / green for positive coefficients', fontsize=11)\n",
    "plt.ylabel('Coefficients (absolute value)', fontsize=10)\n",
    "plt.xticks(fontsize=9, fontweight='bold', rotation=45, ha='right')\n",
    "plt.xticks(feature_importance_abs.columns, fontsize=9, fontweight='bold', rotation=45, ha=\"right\")\n",
    "plt.legend('', frameon=False)\n",
    "plt.show()"
   ]
  },
  {
   "cell_type": "markdown",
   "metadata": {},
   "source": [
    "# B. Modèle de régression Lasso\n",
    "\n",
    "Nous testons un modèle de régression linéaire régularisé Lasso.\n",
    "\n",
    "L'étude de l'importance des features nous a montré que les prédictions sont calculées à partir de 26 features différentes.\n",
    "\n",
    "Ce nombre de features est important alors que nous avons uniquement 118 observations dans notre jeu de données.\n",
    "\n",
    "Lasso permettra de simplifier le modèle en supprimant certaines features en y appliquant un poids de 0."
   ]
  },
  {
   "cell_type": "markdown",
   "metadata": {},
   "source": [
    "## Recherche du meilleur alpha\n",
    "\n",
    "Nous recherchons le meilleur hyperparamètre de régularisation alpha pour notre modèle de régression linéaire Lasso."
   ]
  },
  {
   "cell_type": "code",
   "execution_count": 663,
   "metadata": {},
   "outputs": [
    {
     "name": "stdout",
     "output_type": "stream",
     "text": [
      "20\n"
     ]
    },
    {
     "data": {
      "text/plain": [
       "[3000,\n",
       " 3100,\n",
       " 3200,\n",
       " 3300,\n",
       " 3400,\n",
       " 3500,\n",
       " 3600,\n",
       " 3700,\n",
       " 3800,\n",
       " 3900,\n",
       " 4000,\n",
       " 4100,\n",
       " 4200,\n",
       " 4300,\n",
       " 4400,\n",
       " 4500,\n",
       " 4600,\n",
       " 4700,\n",
       " 4800,\n",
       " 4900]"
      ]
     },
     "execution_count": 663,
     "metadata": {},
     "output_type": "execute_result"
    }
   ],
   "source": [
    "alphas = [i for i in range(3000, 5000, 100)]\n",
    "print(len(alphas))\n",
    "alphas"
   ]
  },
  {
   "cell_type": "code",
   "execution_count": 664,
   "metadata": {},
   "outputs": [
    {
     "name": "stdout",
     "output_type": "stream",
     "text": [
      "{'alpha': 3000}\n",
      "0.8883991233063891\n"
     ]
    }
   ],
   "source": [
    "param_grid = {'alpha': alphas}\n",
    "lasso = Lasso()\n",
    "\n",
    "best_lasso = GridSearchCV(estimator=lasso, param_grid=param_grid, cv=5)\n",
    "best_lasso.fit(X_train, y_train)\n",
    "\n",
    "print(best_lasso.best_params_)\n",
    "print(best_lasso.best_score_)"
   ]
  },
  {
   "cell_type": "code",
   "execution_count": 665,
   "metadata": {},
   "outputs": [
    {
     "name": "stdout",
     "output_type": "stream",
     "text": [
      "LASSO, R2 score on train set :  0.959923796786412\n",
      "LASSO, R2 score on test set :  0.9541634407734857\n"
     ]
    }
   ],
   "source": [
    "print(\"LASSO, R2 score on train set : \", best_lasso.score(X_train, y_train))\n",
    "print(\"LASSO, R2 score on test set : \", best_lasso.score(X_test, y_test))"
   ]
  },
  {
   "cell_type": "markdown",
   "metadata": {},
   "source": [
    "## Résultats & performance\n",
    "\n",
    "Avec une valeur alpha de 3000, on obtient un R2 score de 0.9599 et de 0.9541 sur le train set et le test set.\n",
    "\n",
    "--> Grâce à la régularisation nous avons réussi à minimiser l'écart entre le R2 score en phase de train et de test, tout en conservant une valeur élevée et la plus proche de 1.\n",
    "\n",
    "--> Nous obtenons un meilleur modèle de prédictions avec le Lasso plutôt que le Ridge avec un R2 score de 0.95 contre 0.92."
   ]
  },
  {
   "cell_type": "markdown",
   "metadata": {},
   "source": [
    "## Importance des features"
   ]
  },
  {
   "cell_type": "code",
   "execution_count": 761,
   "metadata": {},
   "outputs": [],
   "source": [
    "# Get the names and coefficients of the features:\n",
    "feature_names_out = preprocessor.get_feature_names_out()\n",
    "feature_names = [fname for fname in feature_names_out]\n",
    "coefs = pd.DataFrame(index = feature_names, data = best_lasso.best_estimator_.coef_.transpose(), columns=[\"coefficients\"])"
   ]
  },
  {
   "cell_type": "code",
   "execution_count": 762,
   "metadata": {},
   "outputs": [],
   "source": [
    "negative_coefs = feature_importance[feature_importance['coefficients']<0]"
   ]
  },
  {
   "cell_type": "code",
   "execution_count": 763,
   "metadata": {},
   "outputs": [],
   "source": [
    "# Compute abs() and sort values:\n",
    "feature_importance_abs = abs(coefs).sort_values(by='coefficients', ascending=False)\n",
    "feature_importance_abs_drop = feature_importance_abs[feature_importance_abs['coefficients'] <= 0]\n",
    "feature_importance_abs_remain = feature_importance_abs[feature_importance_abs['coefficients'] > 0]"
   ]
  },
  {
   "cell_type": "markdown",
   "metadata": {},
   "source": [
    "Le modèle Lasso a éliminé 5 features : Umemployment, Year, Holiday_Flag et les magasins n°11 et 19."
   ]
  },
  {
   "cell_type": "code",
   "execution_count": 764,
   "metadata": {},
   "outputs": [
    {
     "data": {
      "text/html": [
       "<div>\n",
       "<style scoped>\n",
       "    .dataframe tbody tr th:only-of-type {\n",
       "        vertical-align: middle;\n",
       "    }\n",
       "\n",
       "    .dataframe tbody tr th {\n",
       "        vertical-align: top;\n",
       "    }\n",
       "\n",
       "    .dataframe thead th {\n",
       "        text-align: right;\n",
       "    }\n",
       "</style>\n",
       "<table border=\"1\" class=\"dataframe\">\n",
       "  <thead>\n",
       "    <tr style=\"text-align: right;\">\n",
       "      <th></th>\n",
       "      <th>coefficients</th>\n",
       "    </tr>\n",
       "  </thead>\n",
       "  <tbody>\n",
       "    <tr>\n",
       "      <th>cat__Store_11.0</th>\n",
       "      <td>0.0</td>\n",
       "    </tr>\n",
       "    <tr>\n",
       "      <th>num__Unemployment</th>\n",
       "      <td>0.0</td>\n",
       "    </tr>\n",
       "    <tr>\n",
       "      <th>cat__Store_19.0</th>\n",
       "      <td>0.0</td>\n",
       "    </tr>\n",
       "    <tr>\n",
       "      <th>num__Year</th>\n",
       "      <td>0.0</td>\n",
       "    </tr>\n",
       "    <tr>\n",
       "      <th>cat__Holiday_Flag_1.0</th>\n",
       "      <td>0.0</td>\n",
       "    </tr>\n",
       "  </tbody>\n",
       "</table>\n",
       "</div>"
      ],
      "text/plain": [
       "                       coefficients\n",
       "cat__Store_11.0                 0.0\n",
       "num__Unemployment               0.0\n",
       "cat__Store_19.0                 0.0\n",
       "num__Year                       0.0\n",
       "cat__Holiday_Flag_1.0           0.0"
      ]
     },
     "execution_count": 764,
     "metadata": {},
     "output_type": "execute_result"
    }
   ],
   "source": [
    "feature_importance_abs_drop"
   ]
  },
  {
   "cell_type": "code",
   "execution_count": 766,
   "metadata": {},
   "outputs": [
    {
     "data": {
      "text/html": [
       "<div>\n",
       "<style scoped>\n",
       "    .dataframe tbody tr th:only-of-type {\n",
       "        vertical-align: middle;\n",
       "    }\n",
       "\n",
       "    .dataframe tbody tr th {\n",
       "        vertical-align: top;\n",
       "    }\n",
       "\n",
       "    .dataframe thead th {\n",
       "        text-align: right;\n",
       "    }\n",
       "</style>\n",
       "<table border=\"1\" class=\"dataframe\">\n",
       "  <thead>\n",
       "    <tr style=\"text-align: right;\">\n",
       "      <th></th>\n",
       "      <th>cat__Store_5.0</th>\n",
       "      <th>cat__Store_3.0</th>\n",
       "      <th>cat__Store_9.0</th>\n",
       "      <th>cat__Store_16.0</th>\n",
       "      <th>cat__Store_7.0</th>\n",
       "      <th>cat__Store_15.0</th>\n",
       "      <th>cat__Store_4.0</th>\n",
       "      <th>cat__Store_14.0</th>\n",
       "      <th>cat__Store_17.0</th>\n",
       "      <th>cat__Store_8.0</th>\n",
       "      <th>...</th>\n",
       "      <th>cat__Store_2.0</th>\n",
       "      <th>cat__Store_10.0</th>\n",
       "      <th>cat__Store_20.0</th>\n",
       "      <th>cat__Store_18.0</th>\n",
       "      <th>num__Month</th>\n",
       "      <th>num__Temperature</th>\n",
       "      <th>num__Day</th>\n",
       "      <th>cat__Store_6.0</th>\n",
       "      <th>num__CPI</th>\n",
       "      <th>num__Fuel_Price</th>\n",
       "    </tr>\n",
       "  </thead>\n",
       "  <tbody>\n",
       "    <tr>\n",
       "      <th>coefficients</th>\n",
       "      <td>1.127095e+06</td>\n",
       "      <td>1.070332e+06</td>\n",
       "      <td>927278.336339</td>\n",
       "      <td>900584.118015</td>\n",
       "      <td>899811.062594</td>\n",
       "      <td>671171.429264</td>\n",
       "      <td>663408.606465</td>\n",
       "      <td>585951.946835</td>\n",
       "      <td>568299.800003</td>\n",
       "      <td>548015.036705</td>\n",
       "      <td>...</td>\n",
       "      <td>424963.87429</td>\n",
       "      <td>347336.878735</td>\n",
       "      <td>288175.320169</td>\n",
       "      <td>287697.626241</td>\n",
       "      <td>61409.117017</td>\n",
       "      <td>44706.183567</td>\n",
       "      <td>35677.000785</td>\n",
       "      <td>35621.461785</td>\n",
       "      <td>30209.326462</td>\n",
       "      <td>10954.264948</td>\n",
       "    </tr>\n",
       "  </tbody>\n",
       "</table>\n",
       "<p>1 rows × 21 columns</p>\n",
       "</div>"
      ],
      "text/plain": [
       "              cat__Store_5.0  cat__Store_3.0  cat__Store_9.0  cat__Store_16.0  \\\n",
       "coefficients    1.127095e+06    1.070332e+06   927278.336339    900584.118015   \n",
       "\n",
       "              cat__Store_7.0  cat__Store_15.0  cat__Store_4.0  \\\n",
       "coefficients   899811.062594    671171.429264   663408.606465   \n",
       "\n",
       "              cat__Store_14.0  cat__Store_17.0  cat__Store_8.0  ...  \\\n",
       "coefficients    585951.946835    568299.800003   548015.036705  ...   \n",
       "\n",
       "              cat__Store_2.0  cat__Store_10.0  cat__Store_20.0  \\\n",
       "coefficients    424963.87429    347336.878735    288175.320169   \n",
       "\n",
       "              cat__Store_18.0    num__Month  num__Temperature      num__Day  \\\n",
       "coefficients    287697.626241  61409.117017      44706.183567  35677.000785   \n",
       "\n",
       "              cat__Store_6.0      num__CPI  num__Fuel_Price  \n",
       "coefficients    35621.461785  30209.326462     10954.264948  \n",
       "\n",
       "[1 rows x 21 columns]"
      ]
     },
     "execution_count": 766,
     "metadata": {},
     "output_type": "execute_result"
    }
   ],
   "source": [
    "feature_importance_abs_remain = feature_importance_abs_remain.transpose()\n",
    "feature_importance_abs_remain"
   ]
  },
  {
   "cell_type": "code",
   "execution_count": 768,
   "metadata": {},
   "outputs": [
    {
     "data": {
      "image/png": "[encoded data removed]",
      "text/plain": [
       "<Figure size 1000x350 with 1 Axes>"
      ]
     },
     "metadata": {},
     "output_type": "display_data"
    }
   ],
   "source": [
    "# Plot coefficients (in absolute value):\n",
    "import seaborn as sns\n",
    "import matplotlib.pyplot as plt \n",
    "\n",
    "colors = ['deeppink' if y in negative_coefs.index else 'limegreen' for y in feature_importance_abs_remain.columns]\n",
    "sns.set(rc={'figure.figsize':(10, 3.5)}, style='white')\n",
    "sns.barplot(data = feature_importance_abs_remain,orient = 'v', palette = colors, width = .9, edgecolor = 'black')\n",
    "plt.title('Features importance in the Lasso Model', fontsize=12.5, pad=20)\n",
    "plt.xlabel('Colors : pink for negative coefficients / green for positive coefficients', fontsize=11)\n",
    "plt.ylabel('Coefficients (absolute value)', fontsize=10)\n",
    "plt.xticks(fontsize=9, fontweight='bold', rotation=45, ha='right')\n",
    "plt.xticks(feature_importance_abs_remain.columns, fontsize=9, fontweight='bold', rotation=45, ha=\"right\")\n",
    "plt.legend('', frameon=False)\n",
    "plt.show()"
   ]
  },
  {
   "cell_type": "markdown",
   "metadata": {},
   "source": [
    "# Conclusion"
   ]
  },
  {
   "cell_type": "markdown",
   "metadata": {},
   "source": [
    "- Résultats de l'analyse : \n",
    "\n",
    "    - L'analyse des données en partie 1 avait tout d'abord mis en avant que les ventes hebdomadaires étaient très variables d'un magasin à l'autre, et également d'un mois à l'autre.\n",
    "\n",
    "    - Les nuages de points ne nous ont pas permis de déceler de relation corrélée entre les ventes hebdomadaires et les indicateurs économiques.\n",
    "\n",
    "    - La matrice de corrélation a suggéré une corrélation positive entre les ventes hebdomadaires et le taux de chômage, et une corrélation négative avec l'index d'inflation."
   ]
  },
  {
   "cell_type": "markdown",
   "metadata": {},
   "source": [
    "- Résultats des modèles : \n",
    "\n",
    "    - Le modèle de prédiction Lasso est celui qui obtient les meilleures performances : il réalise peu d'erreurs et ne sur-apprend pas.\n",
    "\n",
    "    - Il confirme l'importance des magasins pour calculer les prévisions de ventes (sauf pour le magasin n°6 dont le coefficient est seulement de 35 000).\n",
    "    \n",
    "    - La variable Month est conservée mais son importance est réduite par rapport au modèle de base (coefficient de 60 000 contre 75 000).\n",
    "\n",
    "    - Il infirme l'importance du taux de chômage pour calculer les prévisions de ventes. Le modèle supprime cette variable et ne la prend pas en compte dans ses prédictions. \n",
    "    \n",
    "    - Enfin, le poids de l'index d'inflation est réduit de plus de 10 fois : le coefficient vaut 30 000 dans le modèle Lasso contre 310 000 dans le modèle de base.\n"
   ]
  },
  {
   "cell_type": "code",
   "execution_count": null,
   "metadata": {},
   "outputs": [],
   "source": []
  }
 ],
 "metadata": {
  "kernelspec": {
   "display_name": "ml",
   "language": "python",
   "name": "python3"
  },
  "language_info": {
   "codemirror_mode": {
    "name": "ipython",
    "version": 3
   },
   "file_extension": ".py",
   "mimetype": "text/x-python",
   "name": "python",
   "nbconvert_exporter": "python",
   "pygments_lexer": "ipython3",
   "version": "3.12.1"
  }
 },
 "nbformat": 4,
 "nbformat_minor": 2
}
