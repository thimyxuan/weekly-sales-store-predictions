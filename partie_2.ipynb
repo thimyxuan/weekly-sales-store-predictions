{
 "cells": [
  {
   "cell_type": "markdown",
   "metadata": {},
   "source": [
    "# PARTIE 2 : Entraînement d'un modèle de base"
   ]
  },
  {
   "cell_type": "markdown",
   "metadata": {},
   "source": [
    "Nous sommes dans un problème de régression linéaire. \n",
    "\n",
    "Nous cherchons à prédire un chiffre : le montant du chiffre d'affaires hebdomadaire des magasins Walmart."
   ]
  },
  {
   "cell_type": "markdown",
   "metadata": {},
   "source": [
    "## Import librairies"
   ]
  },
  {
   "cell_type": "code",
   "execution_count": 1,
   "metadata": {},
   "outputs": [],
   "source": [
    "import pandas as pd\n",
    "import numpy as np\n",
    "from sklearn.model_selection import train_test_split\n",
    "from sklearn.pipeline import Pipeline\n",
    "from sklearn.preprocessing import OneHotEncoder, StandardScaler\n",
    "from sklearn.compose import ColumnTransformer\n",
    "from sklearn.linear_model import LinearRegression\n",
    "from sklearn.metrics import r2_score\n",
    "\n",
    "import warnings\n",
    "warnings.filterwarnings('ignore', category=DeprecationWarning)"
   ]
  },
  {
   "cell_type": "markdown",
   "metadata": {},
   "source": [
    "## Import des données"
   ]
  },
  {
   "cell_type": "code",
   "execution_count": 2,
   "metadata": {},
   "outputs": [
    {
     "data": {
      "text/html": [
       "<div>\n",
       "<style scoped>\n",
       "    .dataframe tbody tr th:only-of-type {\n",
       "        vertical-align: middle;\n",
       "    }\n",
       "\n",
       "    .dataframe tbody tr th {\n",
       "        vertical-align: top;\n",
       "    }\n",
       "\n",
       "    .dataframe thead th {\n",
       "        text-align: right;\n",
       "    }\n",
       "</style>\n",
       "<table border=\"1\" class=\"dataframe\">\n",
       "  <thead>\n",
       "    <tr style=\"text-align: right;\">\n",
       "      <th></th>\n",
       "      <th>Store</th>\n",
       "      <th>Day</th>\n",
       "      <th>Month</th>\n",
       "      <th>Year</th>\n",
       "      <th>Weekly_Sales</th>\n",
       "      <th>Holiday_Flag</th>\n",
       "      <th>Temperature</th>\n",
       "      <th>Fuel_Price</th>\n",
       "      <th>CPI</th>\n",
       "      <th>Unemployment</th>\n",
       "    </tr>\n",
       "  </thead>\n",
       "  <tbody>\n",
       "    <tr>\n",
       "      <th>0</th>\n",
       "      <td>6.0</td>\n",
       "      <td>18</td>\n",
       "      <td>2</td>\n",
       "      <td>2011</td>\n",
       "      <td>1572117.54</td>\n",
       "      <td>0.0</td>\n",
       "      <td>59.61</td>\n",
       "      <td>3.045</td>\n",
       "      <td>214.777523</td>\n",
       "      <td>6.858</td>\n",
       "    </tr>\n",
       "    <tr>\n",
       "      <th>1</th>\n",
       "      <td>13.0</td>\n",
       "      <td>25</td>\n",
       "      <td>3</td>\n",
       "      <td>2011</td>\n",
       "      <td>1807545.43</td>\n",
       "      <td>0.0</td>\n",
       "      <td>42.38</td>\n",
       "      <td>3.435</td>\n",
       "      <td>128.616064</td>\n",
       "      <td>7.470</td>\n",
       "    </tr>\n",
       "    <tr>\n",
       "      <th>2</th>\n",
       "      <td>6.0</td>\n",
       "      <td>28</td>\n",
       "      <td>5</td>\n",
       "      <td>2010</td>\n",
       "      <td>1644470.66</td>\n",
       "      <td>0.0</td>\n",
       "      <td>78.89</td>\n",
       "      <td>2.759</td>\n",
       "      <td>212.412888</td>\n",
       "      <td>7.092</td>\n",
       "    </tr>\n",
       "    <tr>\n",
       "      <th>3</th>\n",
       "      <td>4.0</td>\n",
       "      <td>28</td>\n",
       "      <td>5</td>\n",
       "      <td>2010</td>\n",
       "      <td>1857533.70</td>\n",
       "      <td>0.0</td>\n",
       "      <td>60.77</td>\n",
       "      <td>2.756</td>\n",
       "      <td>126.160226</td>\n",
       "      <td>7.896</td>\n",
       "    </tr>\n",
       "    <tr>\n",
       "      <th>4</th>\n",
       "      <td>15.0</td>\n",
       "      <td>3</td>\n",
       "      <td>6</td>\n",
       "      <td>2011</td>\n",
       "      <td>695396.19</td>\n",
       "      <td>0.0</td>\n",
       "      <td>69.80</td>\n",
       "      <td>4.069</td>\n",
       "      <td>134.855161</td>\n",
       "      <td>7.658</td>\n",
       "    </tr>\n",
       "  </tbody>\n",
       "</table>\n",
       "</div>"
      ],
      "text/plain": [
       "   Store  Day  Month  Year  Weekly_Sales  Holiday_Flag  Temperature  \\\n",
       "0    6.0   18      2  2011    1572117.54           0.0        59.61   \n",
       "1   13.0   25      3  2011    1807545.43           0.0        42.38   \n",
       "2    6.0   28      5  2010    1644470.66           0.0        78.89   \n",
       "3    4.0   28      5  2010    1857533.70           0.0        60.77   \n",
       "4   15.0    3      6  2011     695396.19           0.0        69.80   \n",
       "\n",
       "   Fuel_Price         CPI  Unemployment  \n",
       "0       3.045  214.777523         6.858  \n",
       "1       3.435  128.616064         7.470  \n",
       "2       2.759  212.412888         7.092  \n",
       "3       2.756  126.160226         7.896  \n",
       "4       4.069  134.855161         7.658  "
      ]
     },
     "execution_count": 2,
     "metadata": {},
     "output_type": "execute_result"
    }
   ],
   "source": [
    "dataset = pd.read_csv('./src/dataset_for_ml.csv')\n",
    "dataset.drop(['Date'], axis=1, inplace=True)\n",
    "dataset.head()"
   ]
  },
  {
   "cell_type": "markdown",
   "metadata": {},
   "source": [
    "## Preprocessings avec Sklearn\n",
    "\n",
    "### Isoler la variable cible"
   ]
  },
  {
   "cell_type": "code",
   "execution_count": 3,
   "metadata": {},
   "outputs": [
    {
     "name": "stdout",
     "output_type": "stream",
     "text": [
      "Separating labels from features...\n",
      "...Done\n",
      "\n",
      "y:\n",
      "   Weekly_Sales\n",
      "0    1572117.54\n",
      "1    1807545.43\n",
      "2    1644470.66\n",
      "3    1857533.70\n",
      "4     695396.19\n",
      "\n",
      "X:\n",
      "   Store  Day  Month  Year  Holiday_Flag  Temperature  Fuel_Price         CPI  \\\n",
      "0    6.0   18      2  2011           0.0        59.61       3.045  214.777523   \n",
      "1   13.0   25      3  2011           0.0        42.38       3.435  128.616064   \n",
      "2    6.0   28      5  2010           0.0        78.89       2.759  212.412888   \n",
      "3    4.0   28      5  2010           0.0        60.77       2.756  126.160226   \n",
      "4   15.0    3      6  2011           0.0        69.80       4.069  134.855161   \n",
      "\n",
      "   Unemployment  \n",
      "0         6.858  \n",
      "1         7.470  \n",
      "2         7.092  \n",
      "3         7.896  \n",
      "4         7.658  \n",
      "\n"
     ]
    }
   ],
   "source": [
    "# Seperate target variable y from features X:\n",
    "target_variable = ['Weekly_Sales']\n",
    "print('Separating labels from features...')\n",
    "y = dataset.loc[:,target_variable]\n",
    "X = dataset.drop(target_variable, axis = 1)\n",
    "print('...Done')\n",
    "print()\n",
    "print('y:')\n",
    "print(y.head())\n",
    "print()\n",
    "print('X:')\n",
    "print(X.head())\n",
    "print()"
   ]
  },
  {
   "cell_type": "markdown",
   "metadata": {},
   "source": [
    "### Diviser le jeu de données en train set et test set"
   ]
  },
  {
   "cell_type": "code",
   "execution_count": 4,
   "metadata": {},
   "outputs": [
    {
     "name": "stdout",
     "output_type": "stream",
     "text": [
      "Dividing into train set and test set...\n",
      "...Done\n",
      "\n"
     ]
    }
   ],
   "source": [
    "# Divide dataset into train set and test set:\n",
    "print('Dividing into train set and test set...')\n",
    "X_train, X_test, y_train, y_test = train_test_split(X, y, test_size=0.2, random_state=0)\n",
    "print('...Done')\n",
    "print()"
   ]
  },
  {
   "cell_type": "markdown",
   "metadata": {},
   "source": [
    "### Distinguer les variables numériques et catégorielles"
   ]
  },
  {
   "cell_type": "code",
   "execution_count": 5,
   "metadata": {},
   "outputs": [],
   "source": [
    "# Distinguish numeric and categorical features:\n",
    "numeric_features = ['Day', 'Month', 'Year', 'Temperature', 'Fuel_Price', 'CPI', 'Unemployment']\n",
    "categorical_features = ['Store', 'Holiday_Flag']\n",
    "\n",
    "# Create pipeline for numeric features:\n",
    "numeric_transformer = Pipeline(steps=[\n",
    "    ('imputer', SimpleImputer(strategy='mean')),\n",
    "    ('scaler', StandardScaler())\n",
    "])\n",
    "\n",
    "# Create pipeline for categorical features:\n",
    "categorical_transformer = Pipeline(steps=[\n",
    "    ('imputer', SimpleImputer(strategy='most_frequent')),\n",
    "    ('encoder', OneHotEncoder(drop='first'))\n",
    "])\n",
    "\n",
    "# Use ColumnTransformer to make a preprocessor object that describes all the treatments to be done:\n",
    "preprocessor = ColumnTransformer(\n",
    "    transformers=[\n",
    "        ('num', numeric_transformer, numeric_features),\n",
    "        ('cat', categorical_transformer, categorical_features)\n",
    "    ]\n",
    ")"
   ]
  },
  {
   "cell_type": "markdown",
   "metadata": {},
   "source": [
    "### Application des preprocessings"
   ]
  },
  {
   "cell_type": "code",
   "execution_count": 6,
   "metadata": {},
   "outputs": [
    {
     "name": "stdout",
     "output_type": "stream",
     "text": [
      "Performing preprocessings on train set...\n",
      "     Store  Day  Month  Year  Holiday_Flag  Temperature  Fuel_Price  \\\n",
      "109    7.0   25      5  2012           0.0        50.60       3.804   \n",
      "13     6.0   30      4  2010           0.0        68.91       2.780   \n",
      "63    15.0   16      3  2012           0.0        47.42       4.021   \n",
      "71     9.0    9      7  2010           0.0        78.51       2.642   \n",
      "26     7.0   10      2  2012           1.0        18.79       3.103   \n",
      "\n",
      "            CPI  Unemployment  \n",
      "109  197.588605         8.090  \n",
      "13   211.894272         7.092  \n",
      "63   137.584387         7.943  \n",
      "71   214.656430         6.442  \n",
      "26   196.919506         8.256  \n",
      "...Done\n",
      "[[ 1.00479387 -0.4864211   1.29732633 -0.62993689  1.15793519  0.48636272\n",
      "   0.8273496   0.          0.          0.          0.          0.\n",
      "   1.          0.          0.          0.          0.          0.\n",
      "   0.          0.          0.          0.          0.          0.\n",
      "   0.          0.        ]\n",
      " [ 1.60182688 -0.80175616 -1.11749892  0.44730295 -1.2052199   0.85457633\n",
      "  -0.25140508  0.          0.          0.          0.          1.\n",
      "   0.          0.          0.          0.          0.          0.\n",
      "   0.          0.          0.          0.          0.          0.\n",
      "   0.          0.        ]\n",
      " [-0.06986557 -1.11709121  1.29732633 -0.81702715  1.65872099 -1.05808595\n",
      "   0.66845488  0.          0.          0.          0.          0.\n",
      "   0.          0.          0.          0.          0.          0.\n",
      "   0.          1.          0.          0.          0.          0.\n",
      "   0.          0.        ]\n",
      " [-0.90571179  0.14424902 -1.11749892  1.01210374 -1.52369197  0.92567151\n",
      "  -0.95400082  0.          0.          0.          0.          0.\n",
      "   0.          0.          1.          0.          0.          0.\n",
      "   0.          0.          0.          0.          0.          0.\n",
      "   0.          0.        ]\n",
      " [-0.78630519 -1.43242627  1.29732633 -2.50142784 -0.45981063  0.46914078\n",
      "   1.00678175  0.          0.          0.          0.          0.\n",
      "   1.          0.          0.          0.          0.          0.\n",
      "   0.          0.          0.          0.          0.          0.\n",
      "   0.          1.        ]]\n",
      "\n",
      "Performing preprocessings on test set:\n",
      "    Store  Day  Month  Year  Holiday_Flag  Temperature  Fuel_Price  \\\n",
      "86   18.0   28      5  2010           0.0        69.12       2.906   \n",
      "85    8.0   12      2  2010           1.0        33.34       2.548   \n",
      "94    9.0   18      6  2010           0.0        82.99       2.637   \n",
      "8     8.0   19      8  2011           0.0        82.92       3.554   \n",
      "89    2.0   19      2  2010           0.0        39.69       2.514   \n",
      "\n",
      "           CPI  Unemployment  \n",
      "86  132.293936         7.650  \n",
      "85  214.621419         6.299  \n",
      "94  215.016648         6.384  \n",
      "8   219.070197         6.425  \n",
      "89  210.945160         7.650  \n",
      "...Done\n",
      "[[ 1.36301368 -0.4864211  -1.11749892  0.45965797 -0.91444105 -1.19425689\n",
      "   0.35174634  0.          0.          0.          0.          0.\n",
      "   0.          0.          0.          0.          0.          0.\n",
      "   0.          0.          0.          0.          1.          0.\n",
      "   0.          0.        ]\n",
      " [-0.54749198 -1.43242627 -1.11749892 -1.64540165 -1.74062223  0.92477036\n",
      "  -1.10857189  0.          0.          0.          0.          0.\n",
      "   0.          1.          0.          0.          0.          0.\n",
      "   0.          0.          0.          0.          0.          0.\n",
      "   0.          1.        ]\n",
      " [ 0.16894764 -0.17108604 -1.11749892  1.27567744 -1.53523082  0.93494317\n",
      "  -1.01669398  0.          0.          0.          0.          0.\n",
      "   0.          0.          1.          0.          0.          0.\n",
      "   0.          0.          0.          0.          0.          0.\n",
      "   0.          0.        ]\n",
      " [ 0.28835424  0.45958407  0.08991371  1.2715591   0.58099303  1.03927746\n",
      "  -0.9723764   0.          0.          0.          0.          0.\n",
      "   0.          1.          0.          0.          0.          0.\n",
      "   0.          0.          0.          0.          0.          0.\n",
      "   0.          0.        ]\n",
      " [ 0.28835424 -1.43242627 -1.11749892 -1.27180946 -1.81908636  0.83014714\n",
      "   0.35174634  1.          0.          0.          0.          0.\n",
      "   0.          0.          0.          0.          0.          0.\n",
      "   0.          0.          0.          0.          0.          0.\n",
      "   0.          0.        ]]\n",
      "\n"
     ]
    }
   ],
   "source": [
    "# Preprocessings on train set:\n",
    "print('Performing preprocessings on train set...')\n",
    "print(X_train.head())\n",
    "X_train = preprocessor.fit_transform(X_train)\n",
    "print('...Done')\n",
    "print(X_train[0:5])\n",
    "print()\n",
    "\n",
    "# Preprocessings on test set:\n",
    "print('Performing preprocessings on test set:')\n",
    "print(X_test.head())\n",
    "X_test = preprocessor.transform(X_test)\n",
    "print('...Done')\n",
    "print(X_test[0:5])\n",
    "print()"
   ]
  },
  {
   "cell_type": "markdown",
   "metadata": {},
   "source": [
    "## Entraînement du modèle de base\n",
    "\n",
    "Nous entraînons un modèle de régression linéaire."
   ]
  },
  {
   "cell_type": "code",
   "execution_count": 7,
   "metadata": {},
   "outputs": [
    {
     "name": "stdout",
     "output_type": "stream",
     "text": [
      "Training model...\n",
      "...Done\n"
     ]
    }
   ],
   "source": [
    "# Model training:\n",
    "baseline = LinearRegression()\n",
    "print('Training model...')\n",
    "baseline.fit(X_train, y_train)\n",
    "print('...Done')"
   ]
  },
  {
   "cell_type": "markdown",
   "metadata": {},
   "source": [
    "## Effectuer les prédictions"
   ]
  },
  {
   "cell_type": "code",
   "execution_count": 8,
   "metadata": {},
   "outputs": [
    {
     "name": "stdout",
     "output_type": "stream",
     "text": [
      "Prediction on training set...\n",
      "...Done\n",
      "[[ 510980.27804179]\n",
      " [1482828.32136527]\n",
      " [ 615510.17893994]\n",
      " [ 524102.16375997]\n",
      " [ 555894.54844284]]\n",
      "\n"
     ]
    }
   ],
   "source": [
    "# Predictions on training set:\n",
    "print('Prediction on training set...')\n",
    "y_train_pred = baseline.predict(X_train)\n",
    "print('...Done')\n",
    "print(y_train_pred[0:5])\n",
    "print()"
   ]
  },
  {
   "cell_type": "code",
   "execution_count": 9,
   "metadata": {},
   "outputs": [
    {
     "name": "stdout",
     "output_type": "stream",
     "text": [
      "Prediction on test set...\n",
      "...Done\n",
      "[[ 977876.50406976]\n",
      " [ 823871.74820929]\n",
      " [ 438716.63046223]\n",
      " [ 818948.20549277]\n",
      " [2014541.58031281]]\n",
      "\n"
     ]
    }
   ],
   "source": [
    "# Predictions on test set:\n",
    "print('Prediction on test set...')\n",
    "y_test_pred = baseline.predict(X_test)\n",
    "print('...Done')\n",
    "print(y_test_pred[0:5])\n",
    "print()"
   ]
  },
  {
   "cell_type": "markdown",
   "metadata": {},
   "source": [
    "## Évaluation des performances du modèle\n",
    "\n",
    "Nous utilisons la métrique R2 pour évaluer la performance de notre modèle."
   ]
  },
  {
   "cell_type": "code",
   "execution_count": 10,
   "metadata": {},
   "outputs": [
    {
     "name": "stdout",
     "output_type": "stream",
     "text": [
      "R2 score on train set: 0.9707223338797841\n",
      "R2 score on test set: 0.9487011593511447\n"
     ]
    }
   ],
   "source": [
    "# Print scores:\n",
    "print('R2 score on train set:', baseline.score(X_train, y_train))\n",
    "print('R2 score on test set:', baseline.score(X_test, y_test))"
   ]
  },
  {
   "cell_type": "markdown",
   "metadata": {},
   "source": [
    "Le R2 score est très bon : 0,97 et 0,94.\n",
    "\n",
    "Toutefois le score sur le train set est meilleur que le score du test set. \n",
    "\n",
    "--> Nous avons de l'overfitting, le modèle sur-apprend et a des difficultés à généraliser."
   ]
  },
  {
   "cell_type": "markdown",
   "metadata": {},
   "source": [
    "## Importance des features"
   ]
  },
  {
   "cell_type": "code",
   "execution_count": 49,
   "metadata": {},
   "outputs": [],
   "source": [
    "# Get the names and coefficients of the features:\n",
    "feature_names_out = preprocessor.get_feature_names_out()\n",
    "feature_names = [fname for fname in feature_names_out]\n",
    "coefs = pd.DataFrame(index = feature_names, data = baseline.coef_.transpose(), columns=[\"coefficients\"])"
   ]
  },
  {
   "cell_type": "code",
   "execution_count": 50,
   "metadata": {},
   "outputs": [
    {
     "data": {
      "text/html": [
       "<div>\n",
       "<style scoped>\n",
       "    .dataframe tbody tr th:only-of-type {\n",
       "        vertical-align: middle;\n",
       "    }\n",
       "\n",
       "    .dataframe tbody tr th {\n",
       "        vertical-align: top;\n",
       "    }\n",
       "\n",
       "    .dataframe thead th {\n",
       "        text-align: right;\n",
       "    }\n",
       "</style>\n",
       "<table border=\"1\" class=\"dataframe\">\n",
       "  <thead>\n",
       "    <tr style=\"text-align: right;\">\n",
       "      <th></th>\n",
       "      <th>coefficients</th>\n",
       "    </tr>\n",
       "  </thead>\n",
       "  <tbody>\n",
       "    <tr>\n",
       "      <th>cat__Store_4.0</th>\n",
       "      <td>7.750300e+05</td>\n",
       "    </tr>\n",
       "    <tr>\n",
       "      <th>cat__Store_14.0</th>\n",
       "      <td>6.687053e+05</td>\n",
       "    </tr>\n",
       "    <tr>\n",
       "      <th>cat__Store_13.0</th>\n",
       "      <td>6.110865e+05</td>\n",
       "    </tr>\n",
       "    <tr>\n",
       "      <th>cat__Store_10.0</th>\n",
       "      <td>5.568495e+05</td>\n",
       "    </tr>\n",
       "    <tr>\n",
       "      <th>cat__Store_2.0</th>\n",
       "      <td>4.483701e+05</td>\n",
       "    </tr>\n",
       "    <tr>\n",
       "      <th>cat__Store_20.0</th>\n",
       "      <td>3.599918e+05</td>\n",
       "    </tr>\n",
       "    <tr>\n",
       "      <th>cat__Store_11.0</th>\n",
       "      <td>1.981730e+05</td>\n",
       "    </tr>\n",
       "    <tr>\n",
       "      <th>num__CPI</th>\n",
       "      <td>1.130066e+05</td>\n",
       "    </tr>\n",
       "    <tr>\n",
       "      <th>cat__Store_19.0</th>\n",
       "      <td>1.008158e+05</td>\n",
       "    </tr>\n",
       "    <tr>\n",
       "      <th>num__Month</th>\n",
       "      <td>7.370106e+04</td>\n",
       "    </tr>\n",
       "    <tr>\n",
       "      <th>cat__Store_6.0</th>\n",
       "      <td>1.302911e+04</td>\n",
       "    </tr>\n",
       "    <tr>\n",
       "      <th>num__Year</th>\n",
       "      <td>-1.029092e+04</td>\n",
       "    </tr>\n",
       "    <tr>\n",
       "      <th>num__Fuel_Price</th>\n",
       "      <td>-2.094282e+04</td>\n",
       "    </tr>\n",
       "    <tr>\n",
       "      <th>num__Unemployment</th>\n",
       "      <td>-2.607107e+04</td>\n",
       "    </tr>\n",
       "    <tr>\n",
       "      <th>num__Day</th>\n",
       "      <td>-4.844227e+04</td>\n",
       "    </tr>\n",
       "    <tr>\n",
       "      <th>num__Temperature</th>\n",
       "      <td>-4.935982e+04</td>\n",
       "    </tr>\n",
       "    <tr>\n",
       "      <th>cat__Holiday_Flag_1.0</th>\n",
       "      <td>-9.176149e+04</td>\n",
       "    </tr>\n",
       "    <tr>\n",
       "      <th>cat__Store_18.0</th>\n",
       "      <td>-2.727758e+05</td>\n",
       "    </tr>\n",
       "    <tr>\n",
       "      <th>cat__Store_17.0</th>\n",
       "      <td>-5.790625e+05</td>\n",
       "    </tr>\n",
       "    <tr>\n",
       "      <th>cat__Store_15.0</th>\n",
       "      <td>-6.494812e+05</td>\n",
       "    </tr>\n",
       "    <tr>\n",
       "      <th>cat__Store_8.0</th>\n",
       "      <td>-7.565908e+05</td>\n",
       "    </tr>\n",
       "    <tr>\n",
       "      <th>cat__Store_7.0</th>\n",
       "      <td>-9.200767e+05</td>\n",
       "    </tr>\n",
       "    <tr>\n",
       "      <th>cat__Store_16.0</th>\n",
       "      <td>-1.040568e+06</td>\n",
       "    </tr>\n",
       "    <tr>\n",
       "      <th>cat__Store_9.0</th>\n",
       "      <td>-1.142032e+06</td>\n",
       "    </tr>\n",
       "    <tr>\n",
       "      <th>cat__Store_3.0</th>\n",
       "      <td>-1.197537e+06</td>\n",
       "    </tr>\n",
       "    <tr>\n",
       "      <th>cat__Store_5.0</th>\n",
       "      <td>-1.266474e+06</td>\n",
       "    </tr>\n",
       "  </tbody>\n",
       "</table>\n",
       "</div>"
      ],
      "text/plain": [
       "                       coefficients\n",
       "cat__Store_4.0         7.750300e+05\n",
       "cat__Store_14.0        6.687053e+05\n",
       "cat__Store_13.0        6.110865e+05\n",
       "cat__Store_10.0        5.568495e+05\n",
       "cat__Store_2.0         4.483701e+05\n",
       "cat__Store_20.0        3.599918e+05\n",
       "cat__Store_11.0        1.981730e+05\n",
       "num__CPI               1.130066e+05\n",
       "cat__Store_19.0        1.008158e+05\n",
       "num__Month             7.370106e+04\n",
       "cat__Store_6.0         1.302911e+04\n",
       "num__Year             -1.029092e+04\n",
       "num__Fuel_Price       -2.094282e+04\n",
       "num__Unemployment     -2.607107e+04\n",
       "num__Day              -4.844227e+04\n",
       "num__Temperature      -4.935982e+04\n",
       "cat__Holiday_Flag_1.0 -9.176149e+04\n",
       "cat__Store_18.0       -2.727758e+05\n",
       "cat__Store_17.0       -5.790625e+05\n",
       "cat__Store_15.0       -6.494812e+05\n",
       "cat__Store_8.0        -7.565908e+05\n",
       "cat__Store_7.0        -9.200767e+05\n",
       "cat__Store_16.0       -1.040568e+06\n",
       "cat__Store_9.0        -1.142032e+06\n",
       "cat__Store_3.0        -1.197537e+06\n",
       "cat__Store_5.0        -1.266474e+06"
      ]
     },
     "execution_count": 50,
     "metadata": {},
     "output_type": "execute_result"
    }
   ],
   "source": [
    "feature_importance = coefs.sort_values(by='coefficients', ascending=False)\n",
    "feature_importance"
   ]
  },
  {
   "cell_type": "code",
   "execution_count": 54,
   "metadata": {},
   "outputs": [],
   "source": [
    "negative_coefs = feature_importance[feature_importance['coefficients']<0]"
   ]
  },
  {
   "cell_type": "markdown",
   "metadata": {},
   "source": [
    "Nous nous intéressons aux coefficients en valeur absolue afin de mettre en évidence les plus 'lourds' quelque soit leur signe."
   ]
  },
  {
   "cell_type": "code",
   "execution_count": 64,
   "metadata": {},
   "outputs": [],
   "source": [
    "# Compute abs() and sort values:\n",
    "feature_importance_abs = abs(coefs).sort_values(by='coefficients', ascending=False)"
   ]
  },
  {
   "cell_type": "code",
   "execution_count": 65,
   "metadata": {},
   "outputs": [
    {
     "data": {
      "text/html": [
       "<div>\n",
       "<style scoped>\n",
       "    .dataframe tbody tr th:only-of-type {\n",
       "        vertical-align: middle;\n",
       "    }\n",
       "\n",
       "    .dataframe tbody tr th {\n",
       "        vertical-align: top;\n",
       "    }\n",
       "\n",
       "    .dataframe thead th {\n",
       "        text-align: right;\n",
       "    }\n",
       "</style>\n",
       "<table border=\"1\" class=\"dataframe\">\n",
       "  <thead>\n",
       "    <tr style=\"text-align: right;\">\n",
       "      <th></th>\n",
       "      <th>cat__Store_5.0</th>\n",
       "      <th>cat__Store_3.0</th>\n",
       "      <th>cat__Store_9.0</th>\n",
       "      <th>cat__Store_16.0</th>\n",
       "      <th>cat__Store_7.0</th>\n",
       "      <th>cat__Store_4.0</th>\n",
       "      <th>cat__Store_8.0</th>\n",
       "      <th>cat__Store_14.0</th>\n",
       "      <th>cat__Store_15.0</th>\n",
       "      <th>cat__Store_13.0</th>\n",
       "      <th>...</th>\n",
       "      <th>num__CPI</th>\n",
       "      <th>cat__Store_19.0</th>\n",
       "      <th>cat__Holiday_Flag_1.0</th>\n",
       "      <th>num__Month</th>\n",
       "      <th>num__Temperature</th>\n",
       "      <th>num__Day</th>\n",
       "      <th>num__Unemployment</th>\n",
       "      <th>num__Fuel_Price</th>\n",
       "      <th>cat__Store_6.0</th>\n",
       "      <th>num__Year</th>\n",
       "    </tr>\n",
       "  </thead>\n",
       "  <tbody>\n",
       "    <tr>\n",
       "      <th>coefficients</th>\n",
       "      <td>1.266474e+06</td>\n",
       "      <td>1.197537e+06</td>\n",
       "      <td>1.142032e+06</td>\n",
       "      <td>1.040568e+06</td>\n",
       "      <td>920076.71278</td>\n",
       "      <td>775030.011618</td>\n",
       "      <td>756590.811056</td>\n",
       "      <td>668705.332363</td>\n",
       "      <td>649481.214251</td>\n",
       "      <td>611086.545096</td>\n",
       "      <td>...</td>\n",
       "      <td>113006.618947</td>\n",
       "      <td>100815.798525</td>\n",
       "      <td>91761.488909</td>\n",
       "      <td>73701.058247</td>\n",
       "      <td>49359.819901</td>\n",
       "      <td>48442.274873</td>\n",
       "      <td>26071.065454</td>\n",
       "      <td>20942.815858</td>\n",
       "      <td>13029.1093</td>\n",
       "      <td>10290.918238</td>\n",
       "    </tr>\n",
       "  </tbody>\n",
       "</table>\n",
       "<p>1 rows × 26 columns</p>\n",
       "</div>"
      ],
      "text/plain": [
       "              cat__Store_5.0  cat__Store_3.0  cat__Store_9.0  cat__Store_16.0  \\\n",
       "coefficients    1.266474e+06    1.197537e+06    1.142032e+06     1.040568e+06   \n",
       "\n",
       "              cat__Store_7.0  cat__Store_4.0  cat__Store_8.0  cat__Store_14.0  \\\n",
       "coefficients    920076.71278   775030.011618   756590.811056    668705.332363   \n",
       "\n",
       "              cat__Store_15.0  cat__Store_13.0  ...       num__CPI  \\\n",
       "coefficients    649481.214251    611086.545096  ...  113006.618947   \n",
       "\n",
       "              cat__Store_19.0  cat__Holiday_Flag_1.0    num__Month  \\\n",
       "coefficients    100815.798525           91761.488909  73701.058247   \n",
       "\n",
       "              num__Temperature      num__Day  num__Unemployment  \\\n",
       "coefficients      49359.819901  48442.274873       26071.065454   \n",
       "\n",
       "              num__Fuel_Price  cat__Store_6.0     num__Year  \n",
       "coefficients     20942.815858      13029.1093  10290.918238  \n",
       "\n",
       "[1 rows x 26 columns]"
      ]
     },
     "execution_count": 65,
     "metadata": {},
     "output_type": "execute_result"
    }
   ],
   "source": [
    "feature_importance_abs = feature_importance_abs.transpose()\n",
    "feature_importance_abs"
   ]
  },
  {
   "cell_type": "code",
   "execution_count": 79,
   "metadata": {},
   "outputs": [
    {
     "data": {
      "image/png": "[encoded data removed]",
      "text/plain": [
       "<Figure size 1000x350 with 1 Axes>"
      ]
     },
     "metadata": {},
     "output_type": "display_data"
    }
   ],
   "source": [
    "# Plot coefficients (in absolute value):\n",
    "import seaborn as sns\n",
    "import matplotlib.pyplot as plt \n",
    "\n",
    "colors = ['red' if y in negative_coefs.index else 'limegreen' for y in feature_importance_abs.columns]\n",
    "sns.set(rc={'figure.figsize':(10, 3.5)}, style='white')\n",
    "sns.barplot(data = feature_importance_abs,orient = 'v', palette = colors, width = .9, edgecolor = 'black')\n",
    "plt.title('Features importance in the Baseline Model', fontsize=12.5, pad=20)\n",
    "plt.xlabel('Colors : red for negative coefficients / green for positive coefficients', fontsize=11)\n",
    "plt.ylabel('Coefficients (absolute value)', fontsize=10)\n",
    "plt.xticks(fontsize=9, fontweight='bold', rotation=45, ha='right')\n",
    "plt.xticks(feature_importance_abs.columns, fontsize=9, fontweight='bold', rotation=45, ha=\"right\")\n",
    "plt.legend('', frameon=False)\n",
    "plt.show()"
   ]
  },
  {
   "cell_type": "markdown",
   "metadata": {},
   "source": [
    "### Résultats :\n",
    "\n",
    "- Certaines variables ont plus de poids dans notre modèle de prédiction. \n",
    "\n",
    "- Il s'agit des magasins n° : \n",
    "    - 5, 3, 9, 16, 7, 8 soit les magasins les moins performants\n",
    "    - 4, 14, 13 soit les magasins avec les meilleures performances\n",
    "\n",
    "- Les indicateurs économiques (index d'inflation, prix de l'essence, taux de chômage) et de saison (jours fériés, mois, température) ont une moindre importance dans notre modèle de prédiction."
   ]
  },
  {
   "cell_type": "code",
   "execution_count": null,
   "metadata": {},
   "outputs": [],
   "source": []
  }
 ],
 "metadata": {
  "kernelspec": {
   "display_name": "ml",
   "language": "python",
   "name": "python3"
  },
  "language_info": {
   "codemirror_mode": {
    "name": "ipython",
    "version": 3
   },
   "file_extension": ".py",
   "mimetype": "text/x-python",
   "name": "python",
   "nbconvert_exporter": "python",
   "pygments_lexer": "ipython3",
   "version": "3.12.1"
  }
 },
 "nbformat": 4,
 "nbformat_minor": 2
}
