{
 "cells": [
  {
   "cell_type": "markdown",
   "metadata": {},
   "source": [
    "# PARTIE 1 : EDA et prétraitement des données"
   ]
  },
  {
   "cell_type": "markdown",
   "metadata": {},
   "source": [
    "# A. Nettoyage des données"
   ]
  },
  {
   "cell_type": "markdown",
   "metadata": {},
   "source": [
    "## Import librairies"
   ]
  },
  {
   "cell_type": "code",
   "execution_count": 49,
   "metadata": {},
   "outputs": [],
   "source": [
    "import pandas as pd\n",
    "import numpy as np\n",
    "import matplotlib.pyplot as plt\n",
    "import seaborn as sns\n",
    "import plotly.express as px\n",
    "import plotly.graph_objects as go\n",
    "from datetime import datetime\n",
    "\n",
    "import warnings\n",
    "warnings.filterwarnings(\"ignore\")"
   ]
  },
  {
   "cell_type": "markdown",
   "metadata": {},
   "source": [
    "## Lecture des données"
   ]
  },
  {
   "cell_type": "markdown",
   "metadata": {},
   "source": [
    "### Examination des colonnes :\n",
    "\n",
    "- *Store*: identifiant unique d'un magasin (les données concernent 20 magasins distincts)\n",
    "\n",
    "- *Weekly_Sales*: les ventes hebdomadaires d'un magasin donné (il est en moyenne de 1,25 millions de dollars)\n",
    "\n",
    "- *Date*: les ventes sont relevées en fin de semaine les vendredis (les données concernent 2010, 2011 et 2012)\n",
    "\n",
    "- *Temperature*: elle est en unité Kelvin utilisée en Amérique\n",
    "\n",
    "- *Fuel_Price*: le prix du gallon d'essence (1 gallon = 3,8 litres)\n",
    "\n",
    "- *CPI*: le Consumer Price Index mesure l'inflation\n",
    "\n",
    "- *Unemployment*: le taux de chômage dans le pays\n",
    "\n",
    "- *Holiday_Flag*: correspond aux jours fériés en Amérique  (il vaut 1 lorsqu'il s'agit d'un jour de fête, autrement il vaut 0)"
   ]
  },
  {
   "cell_type": "code",
   "execution_count": 50,
   "metadata": {},
   "outputs": [
    {
     "data": {
      "text/html": [
       "<div>\n",
       "<style scoped>\n",
       "    .dataframe tbody tr th:only-of-type {\n",
       "        vertical-align: middle;\n",
       "    }\n",
       "\n",
       "    .dataframe tbody tr th {\n",
       "        vertical-align: top;\n",
       "    }\n",
       "\n",
       "    .dataframe thead th {\n",
       "        text-align: right;\n",
       "    }\n",
       "</style>\n",
       "<table border=\"1\" class=\"dataframe\">\n",
       "  <thead>\n",
       "    <tr style=\"text-align: right;\">\n",
       "      <th></th>\n",
       "      <th>Store</th>\n",
       "      <th>Date</th>\n",
       "      <th>Weekly_Sales</th>\n",
       "      <th>Holiday_Flag</th>\n",
       "      <th>Temperature</th>\n",
       "      <th>Fuel_Price</th>\n",
       "      <th>CPI</th>\n",
       "      <th>Unemployment</th>\n",
       "    </tr>\n",
       "  </thead>\n",
       "  <tbody>\n",
       "    <tr>\n",
       "      <th>0</th>\n",
       "      <td>6.0</td>\n",
       "      <td>18-02-2011</td>\n",
       "      <td>1572117.54</td>\n",
       "      <td>NaN</td>\n",
       "      <td>59.61</td>\n",
       "      <td>3.045</td>\n",
       "      <td>214.777523</td>\n",
       "      <td>6.858</td>\n",
       "    </tr>\n",
       "    <tr>\n",
       "      <th>1</th>\n",
       "      <td>13.0</td>\n",
       "      <td>25-03-2011</td>\n",
       "      <td>1807545.43</td>\n",
       "      <td>0.0</td>\n",
       "      <td>42.38</td>\n",
       "      <td>3.435</td>\n",
       "      <td>128.616064</td>\n",
       "      <td>7.470</td>\n",
       "    </tr>\n",
       "    <tr>\n",
       "      <th>2</th>\n",
       "      <td>17.0</td>\n",
       "      <td>27-07-2012</td>\n",
       "      <td>NaN</td>\n",
       "      <td>0.0</td>\n",
       "      <td>NaN</td>\n",
       "      <td>NaN</td>\n",
       "      <td>130.719581</td>\n",
       "      <td>5.936</td>\n",
       "    </tr>\n",
       "    <tr>\n",
       "      <th>3</th>\n",
       "      <td>11.0</td>\n",
       "      <td>NaN</td>\n",
       "      <td>1244390.03</td>\n",
       "      <td>0.0</td>\n",
       "      <td>84.57</td>\n",
       "      <td>NaN</td>\n",
       "      <td>214.556497</td>\n",
       "      <td>7.346</td>\n",
       "    </tr>\n",
       "    <tr>\n",
       "      <th>4</th>\n",
       "      <td>6.0</td>\n",
       "      <td>28-05-2010</td>\n",
       "      <td>1644470.66</td>\n",
       "      <td>0.0</td>\n",
       "      <td>78.89</td>\n",
       "      <td>2.759</td>\n",
       "      <td>212.412888</td>\n",
       "      <td>7.092</td>\n",
       "    </tr>\n",
       "  </tbody>\n",
       "</table>\n",
       "</div>"
      ],
      "text/plain": [
       "   Store        Date  Weekly_Sales  Holiday_Flag  Temperature  Fuel_Price  \\\n",
       "0    6.0  18-02-2011    1572117.54           NaN        59.61       3.045   \n",
       "1   13.0  25-03-2011    1807545.43           0.0        42.38       3.435   \n",
       "2   17.0  27-07-2012           NaN           0.0          NaN         NaN   \n",
       "3   11.0         NaN    1244390.03           0.0        84.57         NaN   \n",
       "4    6.0  28-05-2010    1644470.66           0.0        78.89       2.759   \n",
       "\n",
       "          CPI  Unemployment  \n",
       "0  214.777523         6.858  \n",
       "1  128.616064         7.470  \n",
       "2  130.719581         5.936  \n",
       "3  214.556497         7.346  \n",
       "4  212.412888         7.092  "
      ]
     },
     "execution_count": 50,
     "metadata": {},
     "output_type": "execute_result"
    }
   ],
   "source": [
    "dataset = pd.read_csv('./src/Walmart_Store_sales.csv')\n",
    "dataset.head()"
   ]
  },
  {
   "cell_type": "code",
   "execution_count": 51,
   "metadata": {},
   "outputs": [
    {
     "name": "stdout",
     "output_type": "stream",
     "text": [
      "(150, 8) \n",
      "\n",
      "<class 'pandas.core.frame.DataFrame'>\n",
      "RangeIndex: 150 entries, 0 to 149\n",
      "Data columns (total 8 columns):\n",
      " #   Column        Non-Null Count  Dtype  \n",
      "---  ------        --------------  -----  \n",
      " 0   Store         150 non-null    float64\n",
      " 1   Date          132 non-null    object \n",
      " 2   Weekly_Sales  136 non-null    float64\n",
      " 3   Holiday_Flag  138 non-null    float64\n",
      " 4   Temperature   132 non-null    float64\n",
      " 5   Fuel_Price    136 non-null    float64\n",
      " 6   CPI           138 non-null    float64\n",
      " 7   Unemployment  135 non-null    float64\n",
      "dtypes: float64(7), object(1)\n",
      "memory usage: 9.5+ KB\n"
     ]
    }
   ],
   "source": [
    "print(dataset.shape, '\\n')\n",
    "dataset.info()"
   ]
  },
  {
   "cell_type": "code",
   "execution_count": 52,
   "metadata": {},
   "outputs": [
    {
     "name": "stdout",
     "output_type": "stream",
     "text": [
      "Number of distinct Walmart stores: 20\n"
     ]
    }
   ],
   "source": [
    "print('Number of distinct Walmart stores:', dataset['Store'].nunique())"
   ]
  },
  {
   "cell_type": "markdown",
   "metadata": {},
   "source": [
    "## Données manquantes\n",
    "\n",
    "Il est possible de retrouver les valeurs manquantes pour les colonnes :\n",
    "- *Holiday_Flag* :  puisque nous connaissons la liste des jours fériés en Amérique du Nord  \n",
    "\n",
    "- *Date* : en observant les champs *CPI* et *Fuel_Price*"
   ]
  },
  {
   "cell_type": "code",
   "execution_count": 53,
   "metadata": {},
   "outputs": [
    {
     "name": "stdout",
     "output_type": "stream",
     "text": [
      "Number of missing values per column:\n"
     ]
    },
    {
     "data": {
      "text/plain": [
       "Store            0\n",
       "Date            18\n",
       "Weekly_Sales    14\n",
       "Holiday_Flag    12\n",
       "Temperature     18\n",
       "Fuel_Price      14\n",
       "CPI             12\n",
       "Unemployment    15\n",
       "dtype: int64"
      ]
     },
     "execution_count": 53,
     "metadata": {},
     "output_type": "execute_result"
    }
   ],
   "source": [
    "print('Number of missing values per column:')\n",
    "dataset.isna().sum()"
   ]
  },
  {
   "cell_type": "code",
   "execution_count": 54,
   "metadata": {},
   "outputs": [],
   "source": [
    "dataset_mv = dataset.copy()"
   ]
  },
  {
   "cell_type": "markdown",
   "metadata": {},
   "source": [
    "## Recherche des valeurs manquantes"
   ]
  },
  {
   "cell_type": "markdown",
   "metadata": {},
   "source": [
    "### Holiday_flag manquants\n",
    "\n",
    "Il n'y a pas de jours fériés dans la liste. Nous remplaçons les valeurs NaN par 0."
   ]
  },
  {
   "cell_type": "code",
   "execution_count": 55,
   "metadata": {},
   "outputs": [
    {
     "data": {
      "text/html": [
       "<div>\n",
       "<style scoped>\n",
       "    .dataframe tbody tr th:only-of-type {\n",
       "        vertical-align: middle;\n",
       "    }\n",
       "\n",
       "    .dataframe tbody tr th {\n",
       "        vertical-align: top;\n",
       "    }\n",
       "\n",
       "    .dataframe thead th {\n",
       "        text-align: right;\n",
       "    }\n",
       "</style>\n",
       "<table border=\"1\" class=\"dataframe\">\n",
       "  <thead>\n",
       "    <tr style=\"text-align: right;\">\n",
       "      <th></th>\n",
       "      <th>Store</th>\n",
       "      <th>Date</th>\n",
       "      <th>Weekly_Sales</th>\n",
       "      <th>Holiday_Flag</th>\n",
       "      <th>Temperature</th>\n",
       "      <th>Fuel_Price</th>\n",
       "      <th>CPI</th>\n",
       "      <th>Unemployment</th>\n",
       "    </tr>\n",
       "  </thead>\n",
       "  <tbody>\n",
       "    <tr>\n",
       "      <th>0</th>\n",
       "      <td>6.0</td>\n",
       "      <td>18-02-2011</td>\n",
       "      <td>1572117.54</td>\n",
       "      <td>NaN</td>\n",
       "      <td>59.61</td>\n",
       "      <td>3.045</td>\n",
       "      <td>214.777523</td>\n",
       "      <td>6.858</td>\n",
       "    </tr>\n",
       "    <tr>\n",
       "      <th>15</th>\n",
       "      <td>6.0</td>\n",
       "      <td>30-04-2010</td>\n",
       "      <td>1498080.16</td>\n",
       "      <td>NaN</td>\n",
       "      <td>68.91</td>\n",
       "      <td>2.780</td>\n",
       "      <td>211.894272</td>\n",
       "      <td>7.092</td>\n",
       "    </tr>\n",
       "    <tr>\n",
       "      <th>43</th>\n",
       "      <td>7.0</td>\n",
       "      <td>26-08-2011</td>\n",
       "      <td>629994.47</td>\n",
       "      <td>NaN</td>\n",
       "      <td>57.60</td>\n",
       "      <td>3.485</td>\n",
       "      <td>194.379637</td>\n",
       "      <td>8.622</td>\n",
       "    </tr>\n",
       "    <tr>\n",
       "      <th>48</th>\n",
       "      <td>1.0</td>\n",
       "      <td>05-08-2011</td>\n",
       "      <td>1624383.75</td>\n",
       "      <td>NaN</td>\n",
       "      <td>91.65</td>\n",
       "      <td>3.684</td>\n",
       "      <td>215.544618</td>\n",
       "      <td>7.962</td>\n",
       "    </tr>\n",
       "    <tr>\n",
       "      <th>53</th>\n",
       "      <td>14.0</td>\n",
       "      <td>25-03-2011</td>\n",
       "      <td>1879451.23</td>\n",
       "      <td>NaN</td>\n",
       "      <td>41.76</td>\n",
       "      <td>3.625</td>\n",
       "      <td>184.994368</td>\n",
       "      <td>8.549</td>\n",
       "    </tr>\n",
       "    <tr>\n",
       "      <th>73</th>\n",
       "      <td>1.0</td>\n",
       "      <td>27-08-2010</td>\n",
       "      <td>1449142.92</td>\n",
       "      <td>NaN</td>\n",
       "      <td>85.22</td>\n",
       "      <td>2.619</td>\n",
       "      <td>211.567306</td>\n",
       "      <td>7.787</td>\n",
       "    </tr>\n",
       "    <tr>\n",
       "      <th>90</th>\n",
       "      <td>9.0</td>\n",
       "      <td>09-07-2010</td>\n",
       "      <td>485389.15</td>\n",
       "      <td>NaN</td>\n",
       "      <td>78.51</td>\n",
       "      <td>2.642</td>\n",
       "      <td>214.656430</td>\n",
       "      <td>6.442</td>\n",
       "    </tr>\n",
       "    <tr>\n",
       "      <th>109</th>\n",
       "      <td>1.0</td>\n",
       "      <td>09-12-2011</td>\n",
       "      <td>NaN</td>\n",
       "      <td>NaN</td>\n",
       "      <td>43.93</td>\n",
       "      <td>3.158</td>\n",
       "      <td>218.961846</td>\n",
       "      <td>7.866</td>\n",
       "    </tr>\n",
       "    <tr>\n",
       "      <th>118</th>\n",
       "      <td>9.0</td>\n",
       "      <td>18-06-2010</td>\n",
       "      <td>513073.87</td>\n",
       "      <td>NaN</td>\n",
       "      <td>82.99</td>\n",
       "      <td>2.637</td>\n",
       "      <td>215.016648</td>\n",
       "      <td>6.384</td>\n",
       "    </tr>\n",
       "    <tr>\n",
       "      <th>136</th>\n",
       "      <td>4.0</td>\n",
       "      <td>08-07-2011</td>\n",
       "      <td>2066541.86</td>\n",
       "      <td>NaN</td>\n",
       "      <td>84.59</td>\n",
       "      <td>3.469</td>\n",
       "      <td>129.112500</td>\n",
       "      <td>5.644</td>\n",
       "    </tr>\n",
       "  </tbody>\n",
       "</table>\n",
       "</div>"
      ],
      "text/plain": [
       "     Store        Date  Weekly_Sales  Holiday_Flag  Temperature  Fuel_Price  \\\n",
       "0      6.0  18-02-2011    1572117.54           NaN        59.61       3.045   \n",
       "15     6.0  30-04-2010    1498080.16           NaN        68.91       2.780   \n",
       "43     7.0  26-08-2011     629994.47           NaN        57.60       3.485   \n",
       "48     1.0  05-08-2011    1624383.75           NaN        91.65       3.684   \n",
       "53    14.0  25-03-2011    1879451.23           NaN        41.76       3.625   \n",
       "73     1.0  27-08-2010    1449142.92           NaN        85.22       2.619   \n",
       "90     9.0  09-07-2010     485389.15           NaN        78.51       2.642   \n",
       "109    1.0  09-12-2011           NaN           NaN        43.93       3.158   \n",
       "118    9.0  18-06-2010     513073.87           NaN        82.99       2.637   \n",
       "136    4.0  08-07-2011    2066541.86           NaN        84.59       3.469   \n",
       "\n",
       "            CPI  Unemployment  \n",
       "0    214.777523         6.858  \n",
       "15   211.894272         7.092  \n",
       "43   194.379637         8.622  \n",
       "48   215.544618         7.962  \n",
       "53   184.994368         8.549  \n",
       "73   211.567306         7.787  \n",
       "90   214.656430         6.442  \n",
       "109  218.961846         7.866  \n",
       "118  215.016648         6.384  \n",
       "136  129.112500         5.644  "
      ]
     },
     "execution_count": 55,
     "metadata": {},
     "output_type": "execute_result"
    }
   ],
   "source": [
    "missing_holiday_flag = dataset_mv[(dataset_mv['Holiday_Flag'].isna() == True) & (dataset_mv['Date'].isna() == False)]\n",
    "missing_holiday_flag"
   ]
  },
  {
   "cell_type": "code",
   "execution_count": 56,
   "metadata": {},
   "outputs": [],
   "source": [
    "missing_holiday_flag_list = missing_holiday_flag.index.tolist()\n",
    "for i in missing_holiday_flag_list:\n",
    "    dataset_mv.iloc[i, 3] = 0"
   ]
  },
  {
   "cell_type": "markdown",
   "metadata": {},
   "source": [
    "### Dates manquantes\n",
    "\n",
    "Nous remarquons que les observations qui partagent le même CPI partagent aussi la même date.\n",
    "\n",
    "--> Nous pouvons déduire et compléter la date manquante :"
   ]
  },
  {
   "cell_type": "code",
   "execution_count": 57,
   "metadata": {},
   "outputs": [
    {
     "data": {
      "text/html": [
       "<div>\n",
       "<style scoped>\n",
       "    .dataframe tbody tr th:only-of-type {\n",
       "        vertical-align: middle;\n",
       "    }\n",
       "\n",
       "    .dataframe tbody tr th {\n",
       "        vertical-align: top;\n",
       "    }\n",
       "\n",
       "    .dataframe thead th {\n",
       "        text-align: right;\n",
       "    }\n",
       "</style>\n",
       "<table border=\"1\" class=\"dataframe\">\n",
       "  <thead>\n",
       "    <tr style=\"text-align: right;\">\n",
       "      <th></th>\n",
       "      <th>Store</th>\n",
       "      <th>Date</th>\n",
       "      <th>Weekly_Sales</th>\n",
       "      <th>Holiday_Flag</th>\n",
       "      <th>Temperature</th>\n",
       "      <th>Fuel_Price</th>\n",
       "      <th>CPI</th>\n",
       "      <th>Unemployment</th>\n",
       "    </tr>\n",
       "  </thead>\n",
       "  <tbody>\n",
       "    <tr>\n",
       "      <th>72</th>\n",
       "      <td>13.0</td>\n",
       "      <td>10-12-2010</td>\n",
       "      <td>2461468.35</td>\n",
       "      <td>0.0</td>\n",
       "      <td>36.78</td>\n",
       "      <td>2.817</td>\n",
       "      <td>126.793400</td>\n",
       "      <td>7.795</td>\n",
       "    </tr>\n",
       "    <tr>\n",
       "      <th>103</th>\n",
       "      <td>4.0</td>\n",
       "      <td>10-12-2010</td>\n",
       "      <td>2302504.86</td>\n",
       "      <td>0.0</td>\n",
       "      <td>42.40</td>\n",
       "      <td>2.860</td>\n",
       "      <td>126.793400</td>\n",
       "      <td>7.127</td>\n",
       "    </tr>\n",
       "    <tr>\n",
       "      <th>57</th>\n",
       "      <td>4.0</td>\n",
       "      <td>07-01-2011</td>\n",
       "      <td>NaN</td>\n",
       "      <td>0.0</td>\n",
       "      <td>NaN</td>\n",
       "      <td>2.980</td>\n",
       "      <td>127.191774</td>\n",
       "      <td>6.510</td>\n",
       "    </tr>\n",
       "    <tr>\n",
       "      <th>65</th>\n",
       "      <td>10.0</td>\n",
       "      <td>NaN</td>\n",
       "      <td>1714309.90</td>\n",
       "      <td>NaN</td>\n",
       "      <td>43.43</td>\n",
       "      <td>3.287</td>\n",
       "      <td>127.191774</td>\n",
       "      <td>8.744</td>\n",
       "    </tr>\n",
       "    <tr>\n",
       "      <th>68</th>\n",
       "      <td>12.0</td>\n",
       "      <td>12-08-2011</td>\n",
       "      <td>955913.68</td>\n",
       "      <td>0.0</td>\n",
       "      <td>91.04</td>\n",
       "      <td>3.701</td>\n",
       "      <td>129.201581</td>\n",
       "      <td>13.503</td>\n",
       "    </tr>\n",
       "    <tr>\n",
       "      <th>128</th>\n",
       "      <td>13.0</td>\n",
       "      <td>12-08-2011</td>\n",
       "      <td>1970341.38</td>\n",
       "      <td>0.0</td>\n",
       "      <td>75.95</td>\n",
       "      <td>3.606</td>\n",
       "      <td>129.201581</td>\n",
       "      <td>6.877</td>\n",
       "    </tr>\n",
       "  </tbody>\n",
       "</table>\n",
       "</div>"
      ],
      "text/plain": [
       "     Store        Date  Weekly_Sales  Holiday_Flag  Temperature  Fuel_Price  \\\n",
       "72    13.0  10-12-2010    2461468.35           0.0        36.78       2.817   \n",
       "103    4.0  10-12-2010    2302504.86           0.0        42.40       2.860   \n",
       "57     4.0  07-01-2011           NaN           0.0          NaN       2.980   \n",
       "65    10.0         NaN    1714309.90           NaN        43.43       3.287   \n",
       "68    12.0  12-08-2011     955913.68           0.0        91.04       3.701   \n",
       "128   13.0  12-08-2011    1970341.38           0.0        75.95       3.606   \n",
       "\n",
       "            CPI  Unemployment  \n",
       "72   126.793400         7.795  \n",
       "103  126.793400         7.127  \n",
       "57   127.191774         6.510  \n",
       "65   127.191774         8.744  \n",
       "68   129.201581        13.503  \n",
       "128  129.201581         6.877  "
      ]
     },
     "execution_count": 57,
     "metadata": {},
     "output_type": "execute_result"
    }
   ],
   "source": [
    "CPI_same = dataset_mv[dataset_mv.duplicated(['CPI'], keep=False)][dataset_mv['CPI'].isna() == False].sort_values(by='CPI')\n",
    "CPI_same"
   ]
  },
  {
   "cell_type": "code",
   "execution_count": 58,
   "metadata": {},
   "outputs": [],
   "source": [
    "dataset_mv.iloc[65,1] = '07-01-2011'\n",
    "dataset_mv.iloc[65, 3] = 0"
   ]
  },
  {
   "cell_type": "markdown",
   "metadata": {},
   "source": [
    "Nous remarquons que les observations qui partagent le même prix de l'essence sont susceptibles de partager la même date. \n",
    "\n",
    "Pour confimer ou infirmer cela, nous pouvons nous aider des valeurs de *CPI* et *Unemployment*. Si les valeurs sont proches il est probable qu'il s'agit de la même date.\n",
    "\n",
    "--> Nous pouvons déduire et compléter les dates manquantes :"
   ]
  },
  {
   "cell_type": "code",
   "execution_count": 59,
   "metadata": {},
   "outputs": [
    {
     "data": {
      "text/html": [
       "<div>\n",
       "<style scoped>\n",
       "    .dataframe tbody tr th:only-of-type {\n",
       "        vertical-align: middle;\n",
       "    }\n",
       "\n",
       "    .dataframe tbody tr th {\n",
       "        vertical-align: top;\n",
       "    }\n",
       "\n",
       "    .dataframe thead th {\n",
       "        text-align: right;\n",
       "    }\n",
       "</style>\n",
       "<table border=\"1\" class=\"dataframe\">\n",
       "  <thead>\n",
       "    <tr style=\"text-align: right;\">\n",
       "      <th></th>\n",
       "      <th>Store</th>\n",
       "      <th>Date</th>\n",
       "      <th>Weekly_Sales</th>\n",
       "      <th>Holiday_Flag</th>\n",
       "      <th>Temperature</th>\n",
       "      <th>Fuel_Price</th>\n",
       "      <th>CPI</th>\n",
       "      <th>Unemployment</th>\n",
       "    </tr>\n",
       "  </thead>\n",
       "  <tbody>\n",
       "    <tr>\n",
       "      <th>44</th>\n",
       "      <td>1.0</td>\n",
       "      <td>12-02-2010</td>\n",
       "      <td>1641957.44</td>\n",
       "      <td>1.0</td>\n",
       "      <td>38.51</td>\n",
       "      <td>2.548</td>\n",
       "      <td>211.242170</td>\n",
       "      <td>8.106</td>\n",
       "    </tr>\n",
       "    <tr>\n",
       "      <th>107</th>\n",
       "      <td>8.0</td>\n",
       "      <td>12-02-2010</td>\n",
       "      <td>994801.40</td>\n",
       "      <td>1.0</td>\n",
       "      <td>33.34</td>\n",
       "      <td>2.548</td>\n",
       "      <td>214.621419</td>\n",
       "      <td>6.299</td>\n",
       "    </tr>\n",
       "    <tr>\n",
       "      <th>56</th>\n",
       "      <td>8.0</td>\n",
       "      <td>27-08-2010</td>\n",
       "      <td>888816.78</td>\n",
       "      <td>0.0</td>\n",
       "      <td>74.92</td>\n",
       "      <td>2.619</td>\n",
       "      <td>214.936279</td>\n",
       "      <td>6.315</td>\n",
       "    </tr>\n",
       "    <tr>\n",
       "      <th>73</th>\n",
       "      <td>1.0</td>\n",
       "      <td>27-08-2010</td>\n",
       "      <td>1449142.92</td>\n",
       "      <td>0.0</td>\n",
       "      <td>85.22</td>\n",
       "      <td>2.619</td>\n",
       "      <td>211.567306</td>\n",
       "      <td>7.787</td>\n",
       "    </tr>\n",
       "    <tr>\n",
       "      <th>118</th>\n",
       "      <td>9.0</td>\n",
       "      <td>18-06-2010</td>\n",
       "      <td>513073.87</td>\n",
       "      <td>0.0</td>\n",
       "      <td>82.99</td>\n",
       "      <td>2.637</td>\n",
       "      <td>215.016648</td>\n",
       "      <td>6.384</td>\n",
       "    </tr>\n",
       "    <tr>\n",
       "      <th>100</th>\n",
       "      <td>3.0</td>\n",
       "      <td>18-06-2010</td>\n",
       "      <td>364076.85</td>\n",
       "      <td>0.0</td>\n",
       "      <td>83.52</td>\n",
       "      <td>2.637</td>\n",
       "      <td>214.785826</td>\n",
       "      <td>7.343</td>\n",
       "    </tr>\n",
       "    <tr>\n",
       "      <th>46</th>\n",
       "      <td>5.0</td>\n",
       "      <td>30-07-2010</td>\n",
       "      <td>268929.03</td>\n",
       "      <td>0.0</td>\n",
       "      <td>82.46</td>\n",
       "      <td>2.640</td>\n",
       "      <td>211.927001</td>\n",
       "      <td>6.496</td>\n",
       "    </tr>\n",
       "    <tr>\n",
       "      <th>58</th>\n",
       "      <td>6.0</td>\n",
       "      <td>30-07-2010</td>\n",
       "      <td>1532308.78</td>\n",
       "      <td>0.0</td>\n",
       "      <td>NaN</td>\n",
       "      <td>2.640</td>\n",
       "      <td>212.894485</td>\n",
       "      <td>6.973</td>\n",
       "    </tr>\n",
       "    <tr>\n",
       "      <th>145</th>\n",
       "      <td>14.0</td>\n",
       "      <td>18-06-2010</td>\n",
       "      <td>2248645.59</td>\n",
       "      <td>0.0</td>\n",
       "      <td>72.62</td>\n",
       "      <td>2.780</td>\n",
       "      <td>182.442420</td>\n",
       "      <td>8.899</td>\n",
       "    </tr>\n",
       "    <tr>\n",
       "      <th>15</th>\n",
       "      <td>6.0</td>\n",
       "      <td>30-04-2010</td>\n",
       "      <td>1498080.16</td>\n",
       "      <td>0.0</td>\n",
       "      <td>68.91</td>\n",
       "      <td>2.780</td>\n",
       "      <td>211.894272</td>\n",
       "      <td>7.092</td>\n",
       "    </tr>\n",
       "    <tr>\n",
       "      <th>69</th>\n",
       "      <td>20.0</td>\n",
       "      <td>26-03-2010</td>\n",
       "      <td>NaN</td>\n",
       "      <td>0.0</td>\n",
       "      <td>50.49</td>\n",
       "      <td>2.854</td>\n",
       "      <td>204.201755</td>\n",
       "      <td>8.187</td>\n",
       "    </tr>\n",
       "    <tr>\n",
       "      <th>95</th>\n",
       "      <td>1.0</td>\n",
       "      <td>14-05-2010</td>\n",
       "      <td>1494251.50</td>\n",
       "      <td>0.0</td>\n",
       "      <td>74.78</td>\n",
       "      <td>2.854</td>\n",
       "      <td>210.337426</td>\n",
       "      <td>7.808</td>\n",
       "    </tr>\n",
       "    <tr>\n",
       "      <th>140</th>\n",
       "      <td>3.0</td>\n",
       "      <td>07-01-2011</td>\n",
       "      <td>NaN</td>\n",
       "      <td>0.0</td>\n",
       "      <td>53.35</td>\n",
       "      <td>2.976</td>\n",
       "      <td>214.695510</td>\n",
       "      <td>7.551</td>\n",
       "    </tr>\n",
       "    <tr>\n",
       "      <th>85</th>\n",
       "      <td>2.0</td>\n",
       "      <td>07-01-2011</td>\n",
       "      <td>1758050.79</td>\n",
       "      <td>0.0</td>\n",
       "      <td>44.69</td>\n",
       "      <td>2.976</td>\n",
       "      <td>211.064888</td>\n",
       "      <td>8.028</td>\n",
       "    </tr>\n",
       "    <tr>\n",
       "      <th>125</th>\n",
       "      <td>3.0</td>\n",
       "      <td>18-11-2011</td>\n",
       "      <td>398838.97</td>\n",
       "      <td>0.0</td>\n",
       "      <td>63.91</td>\n",
       "      <td>3.308</td>\n",
       "      <td>221.643285</td>\n",
       "      <td>7.197</td>\n",
       "    </tr>\n",
       "    <tr>\n",
       "      <th>78</th>\n",
       "      <td>1.0</td>\n",
       "      <td>18-11-2011</td>\n",
       "      <td>1539483.70</td>\n",
       "      <td>0.0</td>\n",
       "      <td>62.25</td>\n",
       "      <td>3.308</td>\n",
       "      <td>218.220509</td>\n",
       "      <td>7.866</td>\n",
       "    </tr>\n",
       "    <tr>\n",
       "      <th>9</th>\n",
       "      <td>3.0</td>\n",
       "      <td>NaN</td>\n",
       "      <td>418925.47</td>\n",
       "      <td>0.0</td>\n",
       "      <td>60.12</td>\n",
       "      <td>3.555</td>\n",
       "      <td>224.132020</td>\n",
       "      <td>6.833</td>\n",
       "    </tr>\n",
       "    <tr>\n",
       "      <th>45</th>\n",
       "      <td>2.0</td>\n",
       "      <td>24-02-2012</td>\n",
       "      <td>1861802.70</td>\n",
       "      <td>0.0</td>\n",
       "      <td>54.63</td>\n",
       "      <td>3.555</td>\n",
       "      <td>220.275944</td>\n",
       "      <td>7.057</td>\n",
       "    </tr>\n",
       "    <tr>\n",
       "      <th>144</th>\n",
       "      <td>3.0</td>\n",
       "      <td>19-10-2012</td>\n",
       "      <td>424513.08</td>\n",
       "      <td>0.0</td>\n",
       "      <td>73.44</td>\n",
       "      <td>3.594</td>\n",
       "      <td>226.968844</td>\n",
       "      <td>6.034</td>\n",
       "    </tr>\n",
       "    <tr>\n",
       "      <th>74</th>\n",
       "      <td>1.0</td>\n",
       "      <td>19-10-2012</td>\n",
       "      <td>1508068.77</td>\n",
       "      <td>0.0</td>\n",
       "      <td>67.97</td>\n",
       "      <td>3.594</td>\n",
       "      <td>223.425723</td>\n",
       "      <td>NaN</td>\n",
       "    </tr>\n",
       "    <tr>\n",
       "      <th>63</th>\n",
       "      <td>5.0</td>\n",
       "      <td>19-10-2012</td>\n",
       "      <td>313358.15</td>\n",
       "      <td>0.0</td>\n",
       "      <td>69.17</td>\n",
       "      <td>3.594</td>\n",
       "      <td>224.019287</td>\n",
       "      <td>5.422</td>\n",
       "    </tr>\n",
       "    <tr>\n",
       "      <th>134</th>\n",
       "      <td>6.0</td>\n",
       "      <td>19-10-2012</td>\n",
       "      <td>NaN</td>\n",
       "      <td>0.0</td>\n",
       "      <td>69.68</td>\n",
       "      <td>3.594</td>\n",
       "      <td>225.050101</td>\n",
       "      <td>5.329</td>\n",
       "    </tr>\n",
       "    <tr>\n",
       "      <th>91</th>\n",
       "      <td>17.0</td>\n",
       "      <td>NaN</td>\n",
       "      <td>1046782.52</td>\n",
       "      <td>0.0</td>\n",
       "      <td>68.91</td>\n",
       "      <td>3.630</td>\n",
       "      <td>NaN</td>\n",
       "      <td>5.936</td>\n",
       "    </tr>\n",
       "    <tr>\n",
       "      <th>19</th>\n",
       "      <td>3.0</td>\n",
       "      <td>18-05-2012</td>\n",
       "      <td>NaN</td>\n",
       "      <td>0.0</td>\n",
       "      <td>72.38</td>\n",
       "      <td>3.630</td>\n",
       "      <td>225.251202</td>\n",
       "      <td>6.664</td>\n",
       "    </tr>\n",
       "    <tr>\n",
       "      <th>81</th>\n",
       "      <td>5.0</td>\n",
       "      <td>NaN</td>\n",
       "      <td>359206.21</td>\n",
       "      <td>0.0</td>\n",
       "      <td>NaN</td>\n",
       "      <td>3.630</td>\n",
       "      <td>221.434215</td>\n",
       "      <td>5.943</td>\n",
       "    </tr>\n",
       "    <tr>\n",
       "      <th>77</th>\n",
       "      <td>3.0</td>\n",
       "      <td>29-07-2011</td>\n",
       "      <td>NaN</td>\n",
       "      <td>0.0</td>\n",
       "      <td>88.07</td>\n",
       "      <td>3.682</td>\n",
       "      <td>NaN</td>\n",
       "      <td>7.567</td>\n",
       "    </tr>\n",
       "    <tr>\n",
       "      <th>121</th>\n",
       "      <td>5.0</td>\n",
       "      <td>29-07-2011</td>\n",
       "      <td>275142.17</td>\n",
       "      <td>0.0</td>\n",
       "      <td>89.42</td>\n",
       "      <td>3.682</td>\n",
       "      <td>216.046436</td>\n",
       "      <td>6.529</td>\n",
       "    </tr>\n",
       "    <tr>\n",
       "      <th>123</th>\n",
       "      <td>1.0</td>\n",
       "      <td>27-05-2011</td>\n",
       "      <td>1466046.67</td>\n",
       "      <td>0.0</td>\n",
       "      <td>NaN</td>\n",
       "      <td>3.786</td>\n",
       "      <td>215.503788</td>\n",
       "      <td>7.682</td>\n",
       "    </tr>\n",
       "    <tr>\n",
       "      <th>89</th>\n",
       "      <td>2.0</td>\n",
       "      <td>NaN</td>\n",
       "      <td>1797732.56</td>\n",
       "      <td>0.0</td>\n",
       "      <td>76.42</td>\n",
       "      <td>3.786</td>\n",
       "      <td>215.154482</td>\n",
       "      <td>7.931</td>\n",
       "    </tr>\n",
       "  </tbody>\n",
       "</table>\n",
       "</div>"
      ],
      "text/plain": [
       "     Store        Date  Weekly_Sales  Holiday_Flag  Temperature  Fuel_Price  \\\n",
       "44     1.0  12-02-2010    1641957.44           1.0        38.51       2.548   \n",
       "107    8.0  12-02-2010     994801.40           1.0        33.34       2.548   \n",
       "56     8.0  27-08-2010     888816.78           0.0        74.92       2.619   \n",
       "73     1.0  27-08-2010    1449142.92           0.0        85.22       2.619   \n",
       "118    9.0  18-06-2010     513073.87           0.0        82.99       2.637   \n",
       "100    3.0  18-06-2010     364076.85           0.0        83.52       2.637   \n",
       "46     5.0  30-07-2010     268929.03           0.0        82.46       2.640   \n",
       "58     6.0  30-07-2010    1532308.78           0.0          NaN       2.640   \n",
       "145   14.0  18-06-2010    2248645.59           0.0        72.62       2.780   \n",
       "15     6.0  30-04-2010    1498080.16           0.0        68.91       2.780   \n",
       "69    20.0  26-03-2010           NaN           0.0        50.49       2.854   \n",
       "95     1.0  14-05-2010    1494251.50           0.0        74.78       2.854   \n",
       "140    3.0  07-01-2011           NaN           0.0        53.35       2.976   \n",
       "85     2.0  07-01-2011    1758050.79           0.0        44.69       2.976   \n",
       "125    3.0  18-11-2011     398838.97           0.0        63.91       3.308   \n",
       "78     1.0  18-11-2011    1539483.70           0.0        62.25       3.308   \n",
       "9      3.0         NaN     418925.47           0.0        60.12       3.555   \n",
       "45     2.0  24-02-2012    1861802.70           0.0        54.63       3.555   \n",
       "144    3.0  19-10-2012     424513.08           0.0        73.44       3.594   \n",
       "74     1.0  19-10-2012    1508068.77           0.0        67.97       3.594   \n",
       "63     5.0  19-10-2012     313358.15           0.0        69.17       3.594   \n",
       "134    6.0  19-10-2012           NaN           0.0        69.68       3.594   \n",
       "91    17.0         NaN    1046782.52           0.0        68.91       3.630   \n",
       "19     3.0  18-05-2012           NaN           0.0        72.38       3.630   \n",
       "81     5.0         NaN     359206.21           0.0          NaN       3.630   \n",
       "77     3.0  29-07-2011           NaN           0.0        88.07       3.682   \n",
       "121    5.0  29-07-2011     275142.17           0.0        89.42       3.682   \n",
       "123    1.0  27-05-2011    1466046.67           0.0          NaN       3.786   \n",
       "89     2.0         NaN    1797732.56           0.0        76.42       3.786   \n",
       "\n",
       "            CPI  Unemployment  \n",
       "44   211.242170         8.106  \n",
       "107  214.621419         6.299  \n",
       "56   214.936279         6.315  \n",
       "73   211.567306         7.787  \n",
       "118  215.016648         6.384  \n",
       "100  214.785826         7.343  \n",
       "46   211.927001         6.496  \n",
       "58   212.894485         6.973  \n",
       "145  182.442420         8.899  \n",
       "15   211.894272         7.092  \n",
       "69   204.201755         8.187  \n",
       "95   210.337426         7.808  \n",
       "140  214.695510         7.551  \n",
       "85   211.064888         8.028  \n",
       "125  221.643285         7.197  \n",
       "78   218.220509         7.866  \n",
       "9    224.132020         6.833  \n",
       "45   220.275944         7.057  \n",
       "144  226.968844         6.034  \n",
       "74   223.425723           NaN  \n",
       "63   224.019287         5.422  \n",
       "134  225.050101         5.329  \n",
       "91          NaN         5.936  \n",
       "19   225.251202         6.664  \n",
       "81   221.434215         5.943  \n",
       "77          NaN         7.567  \n",
       "121  216.046436         6.529  \n",
       "123  215.503788         7.682  \n",
       "89   215.154482         7.931  "
      ]
     },
     "execution_count": 59,
     "metadata": {},
     "output_type": "execute_result"
    }
   ],
   "source": [
    "Fuel_same = dataset_mv[dataset_mv.duplicated(['Fuel_Price'], keep=False)][dataset_mv['Fuel_Price'].isna() == False].sort_values(by='Fuel_Price')\n",
    "Fuel_same"
   ]
  },
  {
   "cell_type": "code",
   "execution_count": 60,
   "metadata": {},
   "outputs": [],
   "source": [
    "dataset_mv.iloc[9,1] = '24-02-2012'\n",
    "dataset_mv.iloc[91,1] = '18-05-2012'\n",
    "dataset_mv.iloc[81,1] = '18-05-2012'\n",
    "dataset_mv.iloc[89,1] = '27-05-2011'"
   ]
  },
  {
   "cell_type": "code",
   "execution_count": 61,
   "metadata": {},
   "outputs": [],
   "source": [
    "dataset_clean = dataset_mv.copy()"
   ]
  },
  {
   "cell_type": "markdown",
   "metadata": {},
   "source": [
    "## Suppression des valeurs manquantes\n",
    "\n",
    "Nous modifions le format de la date pour pouvoir l'exploiter (de string à datetime).  \n",
    "\n",
    "Ceci nous permettra de déterminer s'il est possible de retrouver les autres dates manquantes."
   ]
  },
  {
   "cell_type": "code",
   "execution_count": 62,
   "metadata": {},
   "outputs": [],
   "source": [
    "dataset_clean['date_temp'] = ''\n",
    "\n",
    "for index, value in enumerate(dataset_clean['Date']):\n",
    "    if value == value:\n",
    "        dataset_clean['date_temp'][index] = datetime.strptime(value,'%d-%m-%Y').date()\n",
    "    else: \n",
    "        dataset_clean['date_temp'][index] = np.nan"
   ]
  },
  {
   "cell_type": "code",
   "execution_count": 63,
   "metadata": {},
   "outputs": [],
   "source": [
    "dataset_clean.drop(['Date'], axis=1, inplace=True)\n",
    "dataset_clean.rename(columns={'date_temp': 'Date'}, inplace=True)\n",
    "reorder_column = ['Store', 'Date', 'Weekly_Sales','Holiday_Flag','Temperature', 'Fuel_Price', 'CPI', 'Unemployment']\n",
    "dataset_clean = dataset_clean.reindex(columns=reorder_column)"
   ]
  },
  {
   "cell_type": "code",
   "execution_count": 64,
   "metadata": {},
   "outputs": [
    {
     "data": {
      "text/html": [
       "<div>\n",
       "<style scoped>\n",
       "    .dataframe tbody tr th:only-of-type {\n",
       "        vertical-align: middle;\n",
       "    }\n",
       "\n",
       "    .dataframe tbody tr th {\n",
       "        vertical-align: top;\n",
       "    }\n",
       "\n",
       "    .dataframe thead th {\n",
       "        text-align: right;\n",
       "    }\n",
       "</style>\n",
       "<table border=\"1\" class=\"dataframe\">\n",
       "  <thead>\n",
       "    <tr style=\"text-align: right;\">\n",
       "      <th></th>\n",
       "      <th>Store</th>\n",
       "      <th>Date</th>\n",
       "      <th>Weekly_Sales</th>\n",
       "      <th>Holiday_Flag</th>\n",
       "      <th>Temperature</th>\n",
       "      <th>Fuel_Price</th>\n",
       "      <th>CPI</th>\n",
       "      <th>Unemployment</th>\n",
       "    </tr>\n",
       "  </thead>\n",
       "  <tbody>\n",
       "    <tr>\n",
       "      <th>95</th>\n",
       "      <td>1.0</td>\n",
       "      <td>2010-05-14</td>\n",
       "      <td>1494251.50</td>\n",
       "      <td>0.0</td>\n",
       "      <td>74.78</td>\n",
       "      <td>2.854</td>\n",
       "      <td>210.337426</td>\n",
       "      <td>7.808</td>\n",
       "    </tr>\n",
       "    <tr>\n",
       "      <th>44</th>\n",
       "      <td>1.0</td>\n",
       "      <td>2010-02-12</td>\n",
       "      <td>1641957.44</td>\n",
       "      <td>1.0</td>\n",
       "      <td>38.51</td>\n",
       "      <td>2.548</td>\n",
       "      <td>211.242170</td>\n",
       "      <td>8.106</td>\n",
       "    </tr>\n",
       "    <tr>\n",
       "      <th>73</th>\n",
       "      <td>1.0</td>\n",
       "      <td>2010-08-27</td>\n",
       "      <td>1449142.92</td>\n",
       "      <td>0.0</td>\n",
       "      <td>85.22</td>\n",
       "      <td>2.619</td>\n",
       "      <td>211.567306</td>\n",
       "      <td>7.787</td>\n",
       "    </tr>\n",
       "    <tr>\n",
       "      <th>133</th>\n",
       "      <td>1.0</td>\n",
       "      <td>2010-09-24</td>\n",
       "      <td>NaN</td>\n",
       "      <td>0.0</td>\n",
       "      <td>80.94</td>\n",
       "      <td>NaN</td>\n",
       "      <td>211.597225</td>\n",
       "      <td>7.787</td>\n",
       "    </tr>\n",
       "    <tr>\n",
       "      <th>123</th>\n",
       "      <td>1.0</td>\n",
       "      <td>2011-05-27</td>\n",
       "      <td>1466046.67</td>\n",
       "      <td>0.0</td>\n",
       "      <td>NaN</td>\n",
       "      <td>3.786</td>\n",
       "      <td>215.503788</td>\n",
       "      <td>7.682</td>\n",
       "    </tr>\n",
       "    <tr>\n",
       "      <th>48</th>\n",
       "      <td>1.0</td>\n",
       "      <td>2011-08-05</td>\n",
       "      <td>1624383.75</td>\n",
       "      <td>0.0</td>\n",
       "      <td>91.65</td>\n",
       "      <td>3.684</td>\n",
       "      <td>215.544618</td>\n",
       "      <td>7.962</td>\n",
       "    </tr>\n",
       "    <tr>\n",
       "      <th>78</th>\n",
       "      <td>1.0</td>\n",
       "      <td>2011-11-18</td>\n",
       "      <td>1539483.70</td>\n",
       "      <td>0.0</td>\n",
       "      <td>62.25</td>\n",
       "      <td>3.308</td>\n",
       "      <td>218.220509</td>\n",
       "      <td>7.866</td>\n",
       "    </tr>\n",
       "    <tr>\n",
       "      <th>109</th>\n",
       "      <td>1.0</td>\n",
       "      <td>2011-12-09</td>\n",
       "      <td>NaN</td>\n",
       "      <td>0.0</td>\n",
       "      <td>43.93</td>\n",
       "      <td>3.158</td>\n",
       "      <td>218.961846</td>\n",
       "      <td>7.866</td>\n",
       "    </tr>\n",
       "    <tr>\n",
       "      <th>13</th>\n",
       "      <td>1.0</td>\n",
       "      <td>2012-03-16</td>\n",
       "      <td>1677472.78</td>\n",
       "      <td>0.0</td>\n",
       "      <td>64.74</td>\n",
       "      <td>3.734</td>\n",
       "      <td>221.211813</td>\n",
       "      <td>7.348</td>\n",
       "    </tr>\n",
       "    <tr>\n",
       "      <th>42</th>\n",
       "      <td>1.0</td>\n",
       "      <td>NaN</td>\n",
       "      <td>1661767.33</td>\n",
       "      <td>1.0</td>\n",
       "      <td>NaN</td>\n",
       "      <td>3.730</td>\n",
       "      <td>222.439015</td>\n",
       "      <td>6.908</td>\n",
       "    </tr>\n",
       "    <tr>\n",
       "      <th>74</th>\n",
       "      <td>1.0</td>\n",
       "      <td>2012-10-19</td>\n",
       "      <td>1508068.77</td>\n",
       "      <td>0.0</td>\n",
       "      <td>67.97</td>\n",
       "      <td>3.594</td>\n",
       "      <td>223.425723</td>\n",
       "      <td>NaN</td>\n",
       "    </tr>\n",
       "    <tr>\n",
       "      <th>112</th>\n",
       "      <td>2.0</td>\n",
       "      <td>2010-02-19</td>\n",
       "      <td>2124451.54</td>\n",
       "      <td>0.0</td>\n",
       "      <td>39.69</td>\n",
       "      <td>2.514</td>\n",
       "      <td>210.945160</td>\n",
       "      <td>NaN</td>\n",
       "    </tr>\n",
       "    <tr>\n",
       "      <th>85</th>\n",
       "      <td>2.0</td>\n",
       "      <td>2011-01-07</td>\n",
       "      <td>1758050.79</td>\n",
       "      <td>0.0</td>\n",
       "      <td>44.69</td>\n",
       "      <td>2.976</td>\n",
       "      <td>211.064888</td>\n",
       "      <td>8.028</td>\n",
       "    </tr>\n",
       "    <tr>\n",
       "      <th>51</th>\n",
       "      <td>2.0</td>\n",
       "      <td>2010-11-12</td>\n",
       "      <td>1916812.74</td>\n",
       "      <td>0.0</td>\n",
       "      <td>59.69</td>\n",
       "      <td>2.728</td>\n",
       "      <td>211.660898</td>\n",
       "      <td>8.163</td>\n",
       "    </tr>\n",
       "    <tr>\n",
       "      <th>34</th>\n",
       "      <td>2.0</td>\n",
       "      <td>NaN</td>\n",
       "      <td>1853161.99</td>\n",
       "      <td>0.0</td>\n",
       "      <td>87.70</td>\n",
       "      <td>3.480</td>\n",
       "      <td>214.929625</td>\n",
       "      <td>NaN</td>\n",
       "    </tr>\n",
       "  </tbody>\n",
       "</table>\n",
       "</div>"
      ],
      "text/plain": [
       "     Store        Date  Weekly_Sales  Holiday_Flag  Temperature  Fuel_Price  \\\n",
       "95     1.0  2010-05-14    1494251.50           0.0        74.78       2.854   \n",
       "44     1.0  2010-02-12    1641957.44           1.0        38.51       2.548   \n",
       "73     1.0  2010-08-27    1449142.92           0.0        85.22       2.619   \n",
       "133    1.0  2010-09-24           NaN           0.0        80.94         NaN   \n",
       "123    1.0  2011-05-27    1466046.67           0.0          NaN       3.786   \n",
       "48     1.0  2011-08-05    1624383.75           0.0        91.65       3.684   \n",
       "78     1.0  2011-11-18    1539483.70           0.0        62.25       3.308   \n",
       "109    1.0  2011-12-09           NaN           0.0        43.93       3.158   \n",
       "13     1.0  2012-03-16    1677472.78           0.0        64.74       3.734   \n",
       "42     1.0         NaN    1661767.33           1.0          NaN       3.730   \n",
       "74     1.0  2012-10-19    1508068.77           0.0        67.97       3.594   \n",
       "112    2.0  2010-02-19    2124451.54           0.0        39.69       2.514   \n",
       "85     2.0  2011-01-07    1758050.79           0.0        44.69       2.976   \n",
       "51     2.0  2010-11-12    1916812.74           0.0        59.69       2.728   \n",
       "34     2.0         NaN    1853161.99           0.0        87.70       3.480   \n",
       "\n",
       "            CPI  Unemployment  \n",
       "95   210.337426         7.808  \n",
       "44   211.242170         8.106  \n",
       "73   211.567306         7.787  \n",
       "133  211.597225         7.787  \n",
       "123  215.503788         7.682  \n",
       "48   215.544618         7.962  \n",
       "78   218.220509         7.866  \n",
       "109  218.961846         7.866  \n",
       "13   221.211813         7.348  \n",
       "42   222.439015         6.908  \n",
       "74   223.425723           NaN  \n",
       "112  210.945160           NaN  \n",
       "85   211.064888         8.028  \n",
       "51   211.660898         8.163  \n",
       "34   214.929625           NaN  "
      ]
     },
     "execution_count": 64,
     "metadata": {},
     "output_type": "execute_result"
    }
   ],
   "source": [
    "dataset_clean.sort_values(by=['Store', 'CPI']).head(15)"
   ]
  },
  {
   "cell_type": "markdown",
   "metadata": {},
   "source": [
    "<ins>Résultat</ins> : \n",
    "\n",
    "Nous constatons qu'il est compliqué de retrouver les valeurs des dates manquantes restantes, et ce même en ordonnant les données par magasin et par date.\n",
    "\n",
    "La date est une donnée essentielle puisqu'elle détermine directement le chiffre d'affaires hebdomadaire d'un magasin.\n",
    "\n",
    "--> Nous supprimons les observations où la date est absente.  \n",
    "--> Nous supprimons les observations où le chiffre d'affaires est absent.\n",
    "\n",
    "Cela concerne 27 observations soit 18% du jeu de données."
   ]
  },
  {
   "cell_type": "code",
   "execution_count": 65,
   "metadata": {},
   "outputs": [
    {
     "name": "stdout",
     "output_type": "stream",
     "text": [
      "Number of rows to delete: 27\n",
      "Percentage: 18.0 %\n"
     ]
    }
   ],
   "source": [
    "missing_date = dataset_clean[dataset_clean['Date'].isna() == True].index.tolist()\n",
    "missing_sales = dataset_clean[dataset_clean['Weekly_Sales'].isna() == True].index.tolist()\n",
    "rows_to_drop = missing_date + missing_sales\n",
    "\n",
    "print('Number of rows to delete:', len(rows_to_drop))\n",
    "print('Percentage:', round(len(rows_to_drop)/dataset.shape[0]*100,2), '%')"
   ]
  },
  {
   "cell_type": "code",
   "execution_count": 66,
   "metadata": {},
   "outputs": [
    {
     "name": "stdout",
     "output_type": "stream",
     "text": [
      "(123, 8)\n"
     ]
    },
    {
     "data": {
      "text/plain": [
       "Store            0\n",
       "Date             0\n",
       "Weekly_Sales     0\n",
       "Holiday_Flag     0\n",
       "Temperature     12\n",
       "Fuel_Price      11\n",
       "CPI             10\n",
       "Unemployment    11\n",
       "dtype: int64"
      ]
     },
     "execution_count": 66,
     "metadata": {},
     "output_type": "execute_result"
    }
   ],
   "source": [
    "dataset_clean = dataset_clean.drop(rows_to_drop, axis=0)\n",
    "dataset_clean.reset_index(drop=True, inplace=True)\n",
    "\n",
    "print(dataset_clean.shape)\n",
    "dataset_clean.isna().sum()"
   ]
  },
  {
   "cell_type": "markdown",
   "metadata": {},
   "source": [
    "## Ajout de colonnes relatives à la date"
   ]
  },
  {
   "cell_type": "code",
   "execution_count": 67,
   "metadata": {},
   "outputs": [],
   "source": [
    "dataset_clean['Year'] = ''\n",
    "dataset_clean['Month'] = ''\n",
    "dataset_clean['Day'] = ''\n",
    "dataset_clean['Dayofweek'] = ''\n",
    "\n",
    "for index, value in enumerate(dataset_clean['Date']):\n",
    "    if value == value:\n",
    "        dataset_clean['Year'][index] = value.year\n",
    "        dataset_clean['Month'][index] = value.month\n",
    "        dataset_clean['Day'][index] = value.day\n",
    "        dataset_clean['Dayofweek'][index] = value.weekday()"
   ]
  },
  {
   "cell_type": "code",
   "execution_count": 68,
   "metadata": {},
   "outputs": [
    {
     "data": {
      "text/plain": [
       "Dayofweek\n",
       "4    123\n",
       "Name: count, dtype: int64"
      ]
     },
     "execution_count": 68,
     "metadata": {},
     "output_type": "execute_result"
    }
   ],
   "source": [
    "dataset_clean['Dayofweek'].value_counts()"
   ]
  },
  {
   "cell_type": "code",
   "execution_count": 69,
   "metadata": {},
   "outputs": [],
   "source": [
    "dataset_clean.drop(['Dayofweek'], axis=1, inplace=True)\n",
    "reorder_column = ['Store', 'Date', 'Day', 'Month', 'Year', 'Weekly_Sales','Holiday_Flag','Temperature', 'Fuel_Price', 'CPI', 'Unemployment']\n",
    "dataset_clean = dataset_clean.reindex(columns=reorder_column)"
   ]
  },
  {
   "cell_type": "code",
   "execution_count": 70,
   "metadata": {},
   "outputs": [],
   "source": [
    "dataset_imputed = dataset_clean.copy()"
   ]
  },
  {
   "cell_type": "markdown",
   "metadata": {},
   "source": [
    "## Imputation des données manquantes\n",
    "\n",
    "Temperature, Fuel_Price, CPI et Unemployment sont des données quantitatives continues.\n",
    "\n",
    "Nous remplaçons les données manquantes de ces colonnes par leur valeur moyenne."
   ]
  },
  {
   "cell_type": "code",
   "execution_count": 71,
   "metadata": {},
   "outputs": [
    {
     "data": {
      "text/html": [
       "<div>\n",
       "<style scoped>\n",
       "    .dataframe tbody tr th:only-of-type {\n",
       "        vertical-align: middle;\n",
       "    }\n",
       "\n",
       "    .dataframe tbody tr th {\n",
       "        vertical-align: top;\n",
       "    }\n",
       "\n",
       "    .dataframe thead th {\n",
       "        text-align: right;\n",
       "    }\n",
       "</style>\n",
       "<table border=\"1\" class=\"dataframe\">\n",
       "  <thead>\n",
       "    <tr style=\"text-align: right;\">\n",
       "      <th></th>\n",
       "      <th>Store</th>\n",
       "      <th>Date</th>\n",
       "      <th>Day</th>\n",
       "      <th>Month</th>\n",
       "      <th>Year</th>\n",
       "      <th>Weekly_Sales</th>\n",
       "      <th>Holiday_Flag</th>\n",
       "      <th>Temperature</th>\n",
       "      <th>Fuel_Price</th>\n",
       "      <th>CPI</th>\n",
       "      <th>Unemployment</th>\n",
       "    </tr>\n",
       "  </thead>\n",
       "  <tbody>\n",
       "    <tr>\n",
       "      <th>count</th>\n",
       "      <td>123.000000</td>\n",
       "      <td>123</td>\n",
       "      <td>123.0</td>\n",
       "      <td>123.0</td>\n",
       "      <td>123.0</td>\n",
       "      <td>1.230000e+02</td>\n",
       "      <td>123.000000</td>\n",
       "      <td>111.000000</td>\n",
       "      <td>112.000000</td>\n",
       "      <td>113.000000</td>\n",
       "      <td>112.000000</td>\n",
       "    </tr>\n",
       "    <tr>\n",
       "      <th>unique</th>\n",
       "      <td>NaN</td>\n",
       "      <td>80</td>\n",
       "      <td>30.0</td>\n",
       "      <td>12.0</td>\n",
       "      <td>3.0</td>\n",
       "      <td>NaN</td>\n",
       "      <td>NaN</td>\n",
       "      <td>NaN</td>\n",
       "      <td>NaN</td>\n",
       "      <td>NaN</td>\n",
       "      <td>NaN</td>\n",
       "    </tr>\n",
       "    <tr>\n",
       "      <th>top</th>\n",
       "      <td>NaN</td>\n",
       "      <td>2011-01-07</td>\n",
       "      <td>12.0</td>\n",
       "      <td>5.0</td>\n",
       "      <td>2010.0</td>\n",
       "      <td>NaN</td>\n",
       "      <td>NaN</td>\n",
       "      <td>NaN</td>\n",
       "      <td>NaN</td>\n",
       "      <td>NaN</td>\n",
       "      <td>NaN</td>\n",
       "    </tr>\n",
       "    <tr>\n",
       "      <th>freq</th>\n",
       "      <td>NaN</td>\n",
       "      <td>3</td>\n",
       "      <td>11.0</td>\n",
       "      <td>17.0</td>\n",
       "      <td>51.0</td>\n",
       "      <td>NaN</td>\n",
       "      <td>NaN</td>\n",
       "      <td>NaN</td>\n",
       "      <td>NaN</td>\n",
       "      <td>NaN</td>\n",
       "      <td>NaN</td>\n",
       "    </tr>\n",
       "    <tr>\n",
       "      <th>mean</th>\n",
       "      <td>9.845528</td>\n",
       "      <td>NaN</td>\n",
       "      <td>NaN</td>\n",
       "      <td>NaN</td>\n",
       "      <td>NaN</td>\n",
       "      <td>1.249552e+06</td>\n",
       "      <td>0.065041</td>\n",
       "      <td>60.765946</td>\n",
       "      <td>3.304313</td>\n",
       "      <td>178.399782</td>\n",
       "      <td>7.654339</td>\n",
       "    </tr>\n",
       "    <tr>\n",
       "      <th>std</th>\n",
       "      <td>6.066615</td>\n",
       "      <td>NaN</td>\n",
       "      <td>NaN</td>\n",
       "      <td>NaN</td>\n",
       "      <td>NaN</td>\n",
       "      <td>6.615939e+05</td>\n",
       "      <td>0.247606</td>\n",
       "      <td>17.789311</td>\n",
       "      <td>0.480638</td>\n",
       "      <td>39.998524</td>\n",
       "      <td>1.661474</td>\n",
       "    </tr>\n",
       "    <tr>\n",
       "      <th>min</th>\n",
       "      <td>1.000000</td>\n",
       "      <td>NaN</td>\n",
       "      <td>NaN</td>\n",
       "      <td>NaN</td>\n",
       "      <td>NaN</td>\n",
       "      <td>2.689290e+05</td>\n",
       "      <td>0.000000</td>\n",
       "      <td>18.790000</td>\n",
       "      <td>2.514000</td>\n",
       "      <td>126.111903</td>\n",
       "      <td>5.143000</td>\n",
       "    </tr>\n",
       "    <tr>\n",
       "      <th>25%</th>\n",
       "      <td>4.000000</td>\n",
       "      <td>NaN</td>\n",
       "      <td>NaN</td>\n",
       "      <td>NaN</td>\n",
       "      <td>NaN</td>\n",
       "      <td>5.670360e+05</td>\n",
       "      <td>0.000000</td>\n",
       "      <td>45.465000</td>\n",
       "      <td>2.838500</td>\n",
       "      <td>131.637000</td>\n",
       "      <td>6.656750</td>\n",
       "    </tr>\n",
       "    <tr>\n",
       "      <th>50%</th>\n",
       "      <td>9.000000</td>\n",
       "      <td>NaN</td>\n",
       "      <td>NaN</td>\n",
       "      <td>NaN</td>\n",
       "      <td>NaN</td>\n",
       "      <td>1.295605e+06</td>\n",
       "      <td>0.000000</td>\n",
       "      <td>61.790000</td>\n",
       "      <td>3.327000</td>\n",
       "      <td>196.919506</td>\n",
       "      <td>7.477000</td>\n",
       "    </tr>\n",
       "    <tr>\n",
       "      <th>75%</th>\n",
       "      <td>15.000000</td>\n",
       "      <td>NaN</td>\n",
       "      <td>NaN</td>\n",
       "      <td>NaN</td>\n",
       "      <td>NaN</td>\n",
       "      <td>1.806773e+06</td>\n",
       "      <td>0.000000</td>\n",
       "      <td>75.430000</td>\n",
       "      <td>3.689750</td>\n",
       "      <td>214.878556</td>\n",
       "      <td>8.150000</td>\n",
       "    </tr>\n",
       "    <tr>\n",
       "      <th>max</th>\n",
       "      <td>20.000000</td>\n",
       "      <td>NaN</td>\n",
       "      <td>NaN</td>\n",
       "      <td>NaN</td>\n",
       "      <td>NaN</td>\n",
       "      <td>2.771397e+06</td>\n",
       "      <td>1.000000</td>\n",
       "      <td>91.650000</td>\n",
       "      <td>4.193000</td>\n",
       "      <td>226.968844</td>\n",
       "      <td>14.313000</td>\n",
       "    </tr>\n",
       "  </tbody>\n",
       "</table>\n",
       "</div>"
      ],
      "text/plain": [
       "             Store        Date    Day  Month    Year  Weekly_Sales  \\\n",
       "count   123.000000         123  123.0  123.0   123.0  1.230000e+02   \n",
       "unique         NaN          80   30.0   12.0     3.0           NaN   \n",
       "top            NaN  2011-01-07   12.0    5.0  2010.0           NaN   \n",
       "freq           NaN           3   11.0   17.0    51.0           NaN   \n",
       "mean      9.845528         NaN    NaN    NaN     NaN  1.249552e+06   \n",
       "std       6.066615         NaN    NaN    NaN     NaN  6.615939e+05   \n",
       "min       1.000000         NaN    NaN    NaN     NaN  2.689290e+05   \n",
       "25%       4.000000         NaN    NaN    NaN     NaN  5.670360e+05   \n",
       "50%       9.000000         NaN    NaN    NaN     NaN  1.295605e+06   \n",
       "75%      15.000000         NaN    NaN    NaN     NaN  1.806773e+06   \n",
       "max      20.000000         NaN    NaN    NaN     NaN  2.771397e+06   \n",
       "\n",
       "        Holiday_Flag  Temperature  Fuel_Price         CPI  Unemployment  \n",
       "count     123.000000   111.000000  112.000000  113.000000    112.000000  \n",
       "unique           NaN          NaN         NaN         NaN           NaN  \n",
       "top              NaN          NaN         NaN         NaN           NaN  \n",
       "freq             NaN          NaN         NaN         NaN           NaN  \n",
       "mean        0.065041    60.765946    3.304313  178.399782      7.654339  \n",
       "std         0.247606    17.789311    0.480638   39.998524      1.661474  \n",
       "min         0.000000    18.790000    2.514000  126.111903      5.143000  \n",
       "25%         0.000000    45.465000    2.838500  131.637000      6.656750  \n",
       "50%         0.000000    61.790000    3.327000  196.919506      7.477000  \n",
       "75%         0.000000    75.430000    3.689750  214.878556      8.150000  \n",
       "max         1.000000    91.650000    4.193000  226.968844     14.313000  "
      ]
     },
     "execution_count": 71,
     "metadata": {},
     "output_type": "execute_result"
    }
   ],
   "source": [
    "dataset_imputed.describe(include='all')"
   ]
  },
  {
   "cell_type": "code",
   "execution_count": 72,
   "metadata": {},
   "outputs": [],
   "source": [
    "imputed_cols = ['Temperature', 'Fuel_Price', 'CPI',\t'Unemployment']\n",
    "for i, col in enumerate(imputed_cols):\n",
    "    missing_rows_index = dataset_imputed[dataset_imputed[col].isna() == True].index.tolist()\n",
    "    for row in missing_rows_index:\n",
    "        dataset_imputed.iloc[row,i+7] = round(dataset_imputed[col].mean(),2)"
   ]
  },
  {
   "cell_type": "code",
   "execution_count": 73,
   "metadata": {},
   "outputs": [
    {
     "data": {
      "text/plain": [
       "Store           0\n",
       "Date            0\n",
       "Day             0\n",
       "Month           0\n",
       "Year            0\n",
       "Weekly_Sales    0\n",
       "Holiday_Flag    0\n",
       "Temperature     0\n",
       "Fuel_Price      0\n",
       "CPI             0\n",
       "Unemployment    0\n",
       "dtype: int64"
      ]
     },
     "execution_count": 73,
     "metadata": {},
     "output_type": "execute_result"
    }
   ],
   "source": [
    "dataset_imputed.isna().sum()"
   ]
  },
  {
   "cell_type": "code",
   "execution_count": 74,
   "metadata": {},
   "outputs": [],
   "source": [
    "dataset_outliers = dataset_imputed.copy()"
   ]
  },
  {
   "cell_type": "markdown",
   "metadata": {},
   "source": [
    "## Recherche de données aberrantes\n",
    "\n",
    "Nous considérons comme valeurs aberrantes les données en dehors de l'intervalle :  \n",
    "\n",
    "[(moyenne - 3x l'écart-type), (moyenne + 3x l'écart-type)]"
   ]
  },
  {
   "cell_type": "markdown",
   "metadata": {},
   "source": [
    "### Chiffre d'affaires hebdomadaire"
   ]
  },
  {
   "cell_type": "code",
   "execution_count": 75,
   "metadata": {},
   "outputs": [
    {
     "name": "stdout",
     "output_type": "stream",
     "text": [
      "Interval: [-735229, 3234334]\n"
     ]
    },
    {
     "data": {
      "image/png": "[encoded data removed]",
      "text/plain": [
       "<Figure size 400x100 with 1 Axes>"
      ]
     },
     "metadata": {},
     "output_type": "display_data"
    }
   ],
   "source": [
    "mean_val = dataset_outliers['Weekly_Sales'].mean()\n",
    "std_val = dataset_outliers['Weekly_Sales'].std()\n",
    "print(f'Interval: [{round((mean_val - 3*std_val))}, {round((mean_val + 3*std_val))}]')\n",
    "\n",
    "fig, ax = plt.subplots(figsize=(4, 1))\n",
    "sns.boxplot(x=dataset_outliers['Weekly_Sales'], ax=ax, whis=3, palette=['yellow'], linecolor='black')\n",
    "plt.xticks([i for i in range(0,3500000,500000)], fontsize=9)\n",
    "plt.xlabel('Weekly sales (million $)')\n",
    "plt.show()"
   ]
  },
  {
   "cell_type": "markdown",
   "metadata": {},
   "source": [
    "### Température"
   ]
  },
  {
   "cell_type": "code",
   "execution_count": 76,
   "metadata": {},
   "outputs": [
    {
     "name": "stdout",
     "output_type": "stream",
     "text": [
      "Interval: [10.09, 111.44]\n"
     ]
    },
    {
     "data": {
      "image/png": "[encoded data removed]",
      "text/plain": [
       "<Figure size 400x100 with 1 Axes>"
      ]
     },
     "metadata": {},
     "output_type": "display_data"
    }
   ],
   "source": [
    "mean_val = dataset_outliers['Temperature'].mean()\n",
    "std_val = dataset_outliers['Temperature'].std()\n",
    "print(f'Interval: [{round((mean_val - 3*std_val),2)}, {round((mean_val + 3*std_val),2)}]')\n",
    "\n",
    "fig, ax = plt.subplots(figsize=(4, 1))\n",
    "sns.boxplot(x=dataset_outliers['Temperature'], ax=ax, whis=3, palette=['dodgerblue'], linecolor='black')\n",
    "plt.xticks([i for i in range(15,100,10)], fontsize=9)\n",
    "plt.xlabel('Temperature (F°)')\n",
    "plt.show()"
   ]
  },
  {
   "cell_type": "markdown",
   "metadata": {},
   "source": [
    "### Prix de l'essence"
   ]
  },
  {
   "cell_type": "code",
   "execution_count": 77,
   "metadata": {},
   "outputs": [
    {
     "name": "stdout",
     "output_type": "stream",
     "text": [
      "Interval: [1.93, 4.68]\n"
     ]
    },
    {
     "data": {
      "image/png": "[encoded data removed]",
      "text/plain": [
       "<Figure size 400x100 with 1 Axes>"
      ]
     },
     "metadata": {},
     "output_type": "display_data"
    }
   ],
   "source": [
    "mean_val = dataset_outliers['Fuel_Price'].mean()\n",
    "std_val = dataset_outliers['Fuel_Price'].std()\n",
    "print(f'Interval: [{round((mean_val - 3*std_val),2)}, {round((mean_val + 3*std_val),2)}]')\n",
    "\n",
    "fig, ax = plt.subplots(figsize=(4, 1))\n",
    "sns.boxplot(x=dataset_outliers['Fuel_Price'], ax=ax, whis=3, palette=['limegreen'], linecolor='black')\n",
    "plt.xticks([i / 10.0 for i in range(22,46,3)], fontsize=9)\n",
    "plt.xlabel('Fuel price ($/gallon)')\n",
    "plt.show()"
   ]
  },
  {
   "cell_type": "markdown",
   "metadata": {},
   "source": [
    "### Inflation"
   ]
  },
  {
   "cell_type": "code",
   "execution_count": 78,
   "metadata": {},
   "outputs": [
    {
     "name": "stdout",
     "output_type": "stream",
     "text": [
      "Interval: [63.43, 293.37]\n"
     ]
    },
    {
     "data": {
      "image/png": "[encoded data removed]",
      "text/plain": [
       "<Figure size 400x100 with 1 Axes>"
      ]
     },
     "metadata": {},
     "output_type": "display_data"
    }
   ],
   "source": [
    "mean_val = dataset_outliers['CPI'].mean()\n",
    "std_val = dataset_outliers['CPI'].std()\n",
    "print(f'Interval: [{round((mean_val - 3*std_val),2)}, {round((mean_val + 3*std_val),2)}]')\n",
    "\n",
    "fig, ax = plt.subplots(figsize=(4, 1))\n",
    "sns.boxplot(x=dataset_outliers['CPI'], ax=ax, whis=3, palette=['orangered'], linecolor='black')\n",
    "plt.xticks([i for i in range(120,240,20)], fontsize=9)\n",
    "plt.xlabel('CPI index')\n",
    "plt.show()"
   ]
  },
  {
   "cell_type": "markdown",
   "metadata": {},
   "source": [
    "### Taux de chômage\n",
    "\n",
    "Nous remarquons des valeurs aberrantes dans la colonne *Unemployment*. "
   ]
  },
  {
   "cell_type": "code",
   "execution_count": 79,
   "metadata": {},
   "outputs": [
    {
     "name": "stdout",
     "output_type": "stream",
     "text": [
      "Interval: [2.9, 12.41]\n"
     ]
    },
    {
     "data": {
      "image/png": "[encoded data removed]",
      "text/plain": [
       "<Figure size 500x100 with 1 Axes>"
      ]
     },
     "metadata": {},
     "output_type": "display_data"
    }
   ],
   "source": [
    "mean_val = dataset_outliers['Unemployment'].mean()\n",
    "std_val = dataset_outliers['Unemployment'].std()\n",
    "print(f'Interval: [{round((mean_val - 3*std_val),2)}, {round((mean_val + 3*std_val),2)}]')\n",
    "\n",
    "fig, ax = plt.subplots(figsize=(5, 1))\n",
    "sns.boxplot(x=dataset_outliers['Unemployment'], ax=ax, whis=3, palette=['crimson'], linecolor='black')\n",
    "plt.xticks([i for i in range(5,16,1)], fontsize=9)\n",
    "plt.xlabel('Unemployment rate (%)')\n",
    "plt.show()"
   ]
  },
  {
   "cell_type": "code",
   "execution_count": 80,
   "metadata": {},
   "outputs": [],
   "source": [
    "dataset_final = dataset_outliers.copy()"
   ]
  },
  {
   "cell_type": "markdown",
   "metadata": {},
   "source": [
    "## Suppression des valeurs aberrantes"
   ]
  },
  {
   "cell_type": "markdown",
   "metadata": {},
   "source": [
    "Nous supprimons les valeurs aberrantes détectées précédemment."
   ]
  },
  {
   "cell_type": "code",
   "execution_count": 81,
   "metadata": {},
   "outputs": [
    {
     "data": {
      "text/html": [
       "<div>\n",
       "<style scoped>\n",
       "    .dataframe tbody tr th:only-of-type {\n",
       "        vertical-align: middle;\n",
       "    }\n",
       "\n",
       "    .dataframe tbody tr th {\n",
       "        vertical-align: top;\n",
       "    }\n",
       "\n",
       "    .dataframe thead th {\n",
       "        text-align: right;\n",
       "    }\n",
       "</style>\n",
       "<table border=\"1\" class=\"dataframe\">\n",
       "  <thead>\n",
       "    <tr style=\"text-align: right;\">\n",
       "      <th></th>\n",
       "      <th>Store</th>\n",
       "      <th>Date</th>\n",
       "      <th>Day</th>\n",
       "      <th>Month</th>\n",
       "      <th>Year</th>\n",
       "      <th>Weekly_Sales</th>\n",
       "      <th>Holiday_Flag</th>\n",
       "      <th>Temperature</th>\n",
       "      <th>Fuel_Price</th>\n",
       "      <th>CPI</th>\n",
       "      <th>Unemployment</th>\n",
       "    </tr>\n",
       "  </thead>\n",
       "  <tbody>\n",
       "    <tr>\n",
       "      <th>26</th>\n",
       "      <td>12.0</td>\n",
       "      <td>2011-05-06</td>\n",
       "      <td>6</td>\n",
       "      <td>5</td>\n",
       "      <td>2011</td>\n",
       "      <td>1021154.48</td>\n",
       "      <td>0.0</td>\n",
       "      <td>68.40</td>\n",
       "      <td>4.193</td>\n",
       "      <td>129.044433</td>\n",
       "      <td>13.736</td>\n",
       "    </tr>\n",
       "    <tr>\n",
       "      <th>54</th>\n",
       "      <td>12.0</td>\n",
       "      <td>2010-12-17</td>\n",
       "      <td>17</td>\n",
       "      <td>12</td>\n",
       "      <td>2010</td>\n",
       "      <td>1295605.35</td>\n",
       "      <td>0.0</td>\n",
       "      <td>52.77</td>\n",
       "      <td>3.236</td>\n",
       "      <td>126.879484</td>\n",
       "      <td>14.313</td>\n",
       "    </tr>\n",
       "    <tr>\n",
       "      <th>60</th>\n",
       "      <td>12.0</td>\n",
       "      <td>2011-08-12</td>\n",
       "      <td>12</td>\n",
       "      <td>8</td>\n",
       "      <td>2011</td>\n",
       "      <td>955913.68</td>\n",
       "      <td>0.0</td>\n",
       "      <td>91.04</td>\n",
       "      <td>3.701</td>\n",
       "      <td>129.201581</td>\n",
       "      <td>13.503</td>\n",
       "    </tr>\n",
       "    <tr>\n",
       "      <th>76</th>\n",
       "      <td>12.0</td>\n",
       "      <td>2011-05-27</td>\n",
       "      <td>27</td>\n",
       "      <td>5</td>\n",
       "      <td>2011</td>\n",
       "      <td>964332.51</td>\n",
       "      <td>0.0</td>\n",
       "      <td>60.77</td>\n",
       "      <td>4.087</td>\n",
       "      <td>129.062355</td>\n",
       "      <td>13.736</td>\n",
       "    </tr>\n",
       "    <tr>\n",
       "      <th>111</th>\n",
       "      <td>12.0</td>\n",
       "      <td>2010-09-10</td>\n",
       "      <td>10</td>\n",
       "      <td>9</td>\n",
       "      <td>2010</td>\n",
       "      <td>903119.03</td>\n",
       "      <td>1.0</td>\n",
       "      <td>83.63</td>\n",
       "      <td>3.044</td>\n",
       "      <td>126.114581</td>\n",
       "      <td>14.180</td>\n",
       "    </tr>\n",
       "  </tbody>\n",
       "</table>\n",
       "</div>"
      ],
      "text/plain": [
       "     Store        Date Day Month  Year  Weekly_Sales  Holiday_Flag  \\\n",
       "26    12.0  2011-05-06   6     5  2011    1021154.48           0.0   \n",
       "54    12.0  2010-12-17  17    12  2010    1295605.35           0.0   \n",
       "60    12.0  2011-08-12  12     8  2011     955913.68           0.0   \n",
       "76    12.0  2011-05-27  27     5  2011     964332.51           0.0   \n",
       "111   12.0  2010-09-10  10     9  2010     903119.03           1.0   \n",
       "\n",
       "     Temperature  Fuel_Price         CPI  Unemployment  \n",
       "26         68.40       4.193  129.044433        13.736  \n",
       "54         52.77       3.236  126.879484        14.313  \n",
       "60         91.04       3.701  129.201581        13.503  \n",
       "76         60.77       4.087  129.062355        13.736  \n",
       "111        83.63       3.044  126.114581        14.180  "
      ]
     },
     "execution_count": 81,
     "metadata": {},
     "output_type": "execute_result"
    }
   ],
   "source": [
    "dataset_final[dataset_final['Unemployment'] > 12.41]"
   ]
  },
  {
   "cell_type": "code",
   "execution_count": 82,
   "metadata": {},
   "outputs": [
    {
     "data": {
      "text/plain": [
       "(118, 11)"
      ]
     },
     "execution_count": 82,
     "metadata": {},
     "output_type": "execute_result"
    }
   ],
   "source": [
    "outliers = dataset_final[dataset_final['Unemployment'] > 12.41].index.tolist()\n",
    "dataset_final.drop(outliers, axis=0, inplace=True)\n",
    "dataset_final.reset_index(drop=True, inplace=True)\n",
    "dataset_final.shape"
   ]
  },
  {
   "cell_type": "code",
   "execution_count": 83,
   "metadata": {},
   "outputs": [
    {
     "name": "stdout",
     "output_type": "stream",
     "text": [
      "Interval: [4.57, 10.2]\n"
     ]
    },
    {
     "data": {
      "image/png": "[encoded data removed]",
      "text/plain": [
       "<Figure size 400x100 with 1 Axes>"
      ]
     },
     "metadata": {},
     "output_type": "display_data"
    }
   ],
   "source": [
    "mean_val = dataset_final['Unemployment'].mean()\n",
    "std_val = dataset_final['Unemployment'].std()\n",
    "print(f'Interval: [{round((mean_val - 3*std_val),2)}, {round((mean_val + 3*std_val),2)}]')\n",
    "\n",
    "fig, ax = plt.subplots(figsize=(4, 1))\n",
    "sns.boxplot(x=dataset_final[\"Unemployment\"], ax=ax, whis=3, palette=['crimson'], linecolor='black')\n",
    "plt.xticks([i for i in range(5,11,1)], fontsize=9)\n",
    "plt.xlabel('Unemployment rate (%)')\n",
    "plt.show()"
   ]
  },
  {
   "cell_type": "markdown",
   "metadata": {},
   "source": [
    "# B. Analyse des données"
   ]
  },
  {
   "cell_type": "markdown",
   "metadata": {},
   "source": [
    "## Ventes hebdomadaires suivant l'année"
   ]
  },
  {
   "cell_type": "code",
   "execution_count": 84,
   "metadata": {},
   "outputs": [
    {
     "data": {
      "image/png": "[encoded data removed]",
      "text/plain": [
       "<Figure size 250x300 with 1 Axes>"
      ]
     },
     "metadata": {},
     "output_type": "display_data"
    },
    {
     "data": {
      "text/html": [
       "<div>\n",
       "<style scoped>\n",
       "    .dataframe tbody tr th:only-of-type {\n",
       "        vertical-align: middle;\n",
       "    }\n",
       "\n",
       "    .dataframe tbody tr th {\n",
       "        vertical-align: top;\n",
       "    }\n",
       "\n",
       "    .dataframe thead th {\n",
       "        text-align: right;\n",
       "    }\n",
       "</style>\n",
       "<table border=\"1\" class=\"dataframe\">\n",
       "  <thead>\n",
       "    <tr style=\"text-align: right;\">\n",
       "      <th></th>\n",
       "      <th>Year</th>\n",
       "      <th>Weekly_Sales</th>\n",
       "    </tr>\n",
       "  </thead>\n",
       "  <tbody>\n",
       "    <tr>\n",
       "      <th>0</th>\n",
       "      <td>2010</td>\n",
       "      <td>1.268950e+06</td>\n",
       "    </tr>\n",
       "    <tr>\n",
       "      <th>1</th>\n",
       "      <td>2011</td>\n",
       "      <td>1.360004e+06</td>\n",
       "    </tr>\n",
       "    <tr>\n",
       "      <th>2</th>\n",
       "      <td>2012</td>\n",
       "      <td>1.133822e+06</td>\n",
       "    </tr>\n",
       "  </tbody>\n",
       "</table>\n",
       "</div>"
      ],
      "text/plain": [
       "   Year  Weekly_Sales\n",
       "0  2010  1.268950e+06\n",
       "1  2011  1.360004e+06\n",
       "2  2012  1.133822e+06"
      ]
     },
     "metadata": {},
     "output_type": "display_data"
    }
   ],
   "source": [
    "sns.set(rc={'figure.figsize':(2.5, 3)}, style='white')\n",
    "colors = sns.color_palette('cool')\n",
    "sns.boxplot(x=\"Year\", y=\"Weekly_Sales\", hue=\"Year\", data=dataset_final, palette=colors, linecolor='black', width=.7)\n",
    "plt.title('Weekly sales per year', fontsize=12.5, pad=20)\n",
    "plt.ylabel('Million $', fontsize=10, fontweight='bold')\n",
    "plt.xlabel('')\n",
    "plt.yticks([i for i in range(0,3500000, 500000)], fontsize=10)\n",
    "plt.xticks([i for i in range(0,3)], ['2010', '2011', '2012'], fontsize=10, fontweight='bold')\n",
    "plt.legend('', frameon=False)\n",
    "plt.show()\n",
    "\n",
    "weekly_sales_per_year = dataset_final.groupby('Year')['Weekly_Sales'].mean().to_frame().reset_index()\n",
    "display(weekly_sales_per_year)"
   ]
  },
  {
   "cell_type": "markdown",
   "metadata": {},
   "source": [
    "## Ventes hebdomadaires suivant le mois"
   ]
  },
  {
   "cell_type": "markdown",
   "metadata": {},
   "source": [
    "Nous observons que les ventes hebdomadaires varient suivant le mois.  \n",
    "\n",
    "Elle sont bien plus élevées en décembre avec &#36;2,27 millions/magasin en moyenne. Octobre, avril et novembre sont les mois qui enregistrent les chiffres les plus bas avec moins de &#36;1 million/magasin.\n",
    "\n",
    "--> <ins>Hypothèses</ins> : Les ventes sont influencées par les saisons et les activités liées à celles-ci. On remarque une alternance entre périodes de grosse consommation et périodes de faible consommation."
   ]
  },
  {
   "cell_type": "code",
   "execution_count": 85,
   "metadata": {},
   "outputs": [
    {
     "data": {
      "image/png": "[encoded data removed]",
      "text/plain": [
       "<Figure size 900x350 with 1 Axes>"
      ]
     },
     "metadata": {},
     "output_type": "display_data"
    },
    {
     "data": {
      "text/html": [
       "<div>\n",
       "<style scoped>\n",
       "    .dataframe tbody tr th:only-of-type {\n",
       "        vertical-align: middle;\n",
       "    }\n",
       "\n",
       "    .dataframe tbody tr th {\n",
       "        vertical-align: top;\n",
       "    }\n",
       "\n",
       "    .dataframe thead th {\n",
       "        text-align: right;\n",
       "    }\n",
       "</style>\n",
       "<table border=\"1\" class=\"dataframe\">\n",
       "  <thead>\n",
       "    <tr style=\"text-align: right;\">\n",
       "      <th></th>\n",
       "      <th>Month</th>\n",
       "      <th>Weekly_Sales</th>\n",
       "    </tr>\n",
       "  </thead>\n",
       "  <tbody>\n",
       "    <tr>\n",
       "      <th>11</th>\n",
       "      <td>12</td>\n",
       "      <td>2.279542e+06</td>\n",
       "    </tr>\n",
       "    <tr>\n",
       "      <th>0</th>\n",
       "      <td>1</td>\n",
       "      <td>1.552612e+06</td>\n",
       "    </tr>\n",
       "    <tr>\n",
       "      <th>1</th>\n",
       "      <td>2</td>\n",
       "      <td>1.438223e+06</td>\n",
       "    </tr>\n",
       "    <tr>\n",
       "      <th>2</th>\n",
       "      <td>3</td>\n",
       "      <td>1.399005e+06</td>\n",
       "    </tr>\n",
       "    <tr>\n",
       "      <th>6</th>\n",
       "      <td>7</td>\n",
       "      <td>1.331006e+06</td>\n",
       "    </tr>\n",
       "    <tr>\n",
       "      <th>7</th>\n",
       "      <td>8</td>\n",
       "      <td>1.289846e+06</td>\n",
       "    </tr>\n",
       "    <tr>\n",
       "      <th>5</th>\n",
       "      <td>6</td>\n",
       "      <td>1.193792e+06</td>\n",
       "    </tr>\n",
       "    <tr>\n",
       "      <th>4</th>\n",
       "      <td>5</td>\n",
       "      <td>1.101871e+06</td>\n",
       "    </tr>\n",
       "    <tr>\n",
       "      <th>8</th>\n",
       "      <td>9</td>\n",
       "      <td>9.939129e+05</td>\n",
       "    </tr>\n",
       "    <tr>\n",
       "      <th>10</th>\n",
       "      <td>11</td>\n",
       "      <td>9.501744e+05</td>\n",
       "    </tr>\n",
       "    <tr>\n",
       "      <th>3</th>\n",
       "      <td>4</td>\n",
       "      <td>9.351991e+05</td>\n",
       "    </tr>\n",
       "    <tr>\n",
       "      <th>9</th>\n",
       "      <td>10</td>\n",
       "      <td>8.127581e+05</td>\n",
       "    </tr>\n",
       "  </tbody>\n",
       "</table>\n",
       "</div>"
      ],
      "text/plain": [
       "    Month  Weekly_Sales\n",
       "11     12  2.279542e+06\n",
       "0       1  1.552612e+06\n",
       "1       2  1.438223e+06\n",
       "2       3  1.399005e+06\n",
       "6       7  1.331006e+06\n",
       "7       8  1.289846e+06\n",
       "5       6  1.193792e+06\n",
       "4       5  1.101871e+06\n",
       "8       9  9.939129e+05\n",
       "10     11  9.501744e+05\n",
       "3       4  9.351991e+05\n",
       "9      10  8.127581e+05"
      ]
     },
     "metadata": {},
     "output_type": "display_data"
    }
   ],
   "source": [
    "sns.set(rc={'figure.figsize':(9, 3.5)}, style='white')\n",
    "colors = sns.color_palette('cool')\n",
    "sns.boxplot(x=\"Month\", y=\"Weekly_Sales\", hue=\"Month\", data=dataset_final,  palette=colors, linecolor='black', width=.5)\n",
    "plt.title('Weekly sales per month', fontsize=12.5, pad=16)\n",
    "plt.ylabel('Million $', fontsize=10, fontweight='bold')\n",
    "plt.xlabel('')\n",
    "plt.yticks([i for i in range(0,3500000, 500000)], fontsize=10)\n",
    "plt.xticks([i for i in range(0,12)], ['Jan', 'Feb', 'Mar', 'Apr', 'May', 'Jun', 'Jul', 'Aug', 'Sep', 'Oct', 'Nov', 'Dec'], fontsize=10, fontweight='bold')\n",
    "plt.legend('', frameon=False)\n",
    "plt.show()\n",
    "\n",
    "weekly_sales_per_month = dataset_final.groupby('Month')['Weekly_Sales'].mean().to_frame().reset_index()\n",
    "display(weekly_sales_per_month.sort_values(by='Weekly_Sales', ascending=False))"
   ]
  },
  {
   "cell_type": "markdown",
   "metadata": {},
   "source": [
    "## Ventes hebdomadaires suivant le jour du mois\n",
    "\n",
    "Nous observons que les ventes hebdomadaires varient suivant le jour du mois.\n",
    "\n",
    "Le 10 et le 16 du mois elles sont particulièrement élevées. En revanche le 13 du mois et le 29 du mois elle sont particulièrement faibles.\n",
    "\n",
    "--> Ceci pourrait s'expliquer par le fait que les américains reçoivent généralement leur salaire en 2 versements mensuels, au début de mois et à la moitié du mois."
   ]
  },
  {
   "cell_type": "code",
   "execution_count": 86,
   "metadata": {},
   "outputs": [
    {
     "data": {
      "image/png": "[encoded data removed]",
      "text/plain": [
       "<Figure size 1000x350 with 1 Axes>"
      ]
     },
     "metadata": {},
     "output_type": "display_data"
    }
   ],
   "source": [
    "sns.set(rc={'figure.figsize':(10, 3.5)}, style='white')\n",
    "colors = sns.color_palette('cool')\n",
    "sns.barplot(x=\"Day\", y=\"Weekly_Sales\", hue=\"Day\", data=dataset_final, palette=colors, edgecolor='black', width=1)\n",
    "plt.title('Weekly sales depending on the day of month', fontsize=12.5, pad=16)\n",
    "plt.ylabel('Million $', fontsize=10, fontweight='bold')\n",
    "plt.xlabel('')\n",
    "plt.yticks([i for i in range(0,2600000, 500000)], fontsize=10)\n",
    "plt.xticks(fontsize=10, fontweight='bold')\n",
    "plt.legend('', frameon=False)\n",
    "plt.show()"
   ]
  },
  {
   "cell_type": "markdown",
   "metadata": {},
   "source": [
    "## Ventes hebdomadaires suivant le magasin\n",
    "\n",
    "Les ventes ne sont pas uniformes suivant le magasin. Certains magasins performent mieux que d'autres.\n",
    "\n",
    "Les magasins n°4 et n°14 sont les plus performants. Ils réalisent en moyenne plus de &#36;2 million/semaine.  \n",
    "En revanche les magasins n°5 et n°3 sont les moins bons. Ils réalisent en moyenne moins de &#36;500000/semaine.\n",
    "\n",
    "*Note: Après nettoyage du jeu de données n'y a plus de données pour le magasin n°12.*"
   ]
  },
  {
   "cell_type": "code",
   "execution_count": 87,
   "metadata": {},
   "outputs": [
    {
     "name": "stdout",
     "output_type": "stream",
     "text": [
      "Number of stores: 19\n"
     ]
    },
    {
     "data": {
      "image/png": "[encoded data removed]",
      "text/plain": [
       "<Figure size 1000x350 with 1 Axes>"
      ]
     },
     "metadata": {},
     "output_type": "display_data"
    }
   ],
   "source": [
    "print('Number of stores:', len(dataset_final[\"Store\"].unique().tolist()))\n",
    "sns.set(rc={'figure.figsize':(10, 3.5)}, style='white')\n",
    "colors = sns.color_palette('cool')\n",
    "sns.barplot(x=\"Store\", y=\"Weekly_Sales\", data=dataset_final, palette=colors, edgecolor='black', width=1)           \n",
    "plt.title('Weekly sales per store', fontsize=12.5, pad=16)\n",
    "plt.ylabel('Million $', fontsize=10, fontweight='bold')\n",
    "plt.xlabel('Store ID', fontsize=11, fontweight='normal')\n",
    "plt.yticks([i for i in range(0,3000000, 500000)], fontsize=10)\n",
    "plt.xticks([i for i in range(0,20)],[1,2,3,4,5,6,7,8,9,10,11,13,14,15,16,17,18,19,20,''], fontsize=10, fontweight='bold')\n",
    "plt.legend('', frameon=False)\n",
    "plt.show()"
   ]
  },
  {
   "cell_type": "markdown",
   "metadata": {},
   "source": [
    "## Ventes hebdomadaires suivant les jours fériés\n",
    "\n",
    "Les ventes sont en moyenne meilleures lors des jours fériés. On observe un écart de <span>$</span>100000 entre un jour normal et un jour férié."
   ]
  },
  {
   "cell_type": "code",
   "execution_count": 88,
   "metadata": {},
   "outputs": [
    {
     "data": {
      "image/png": "[encoded data removed]",
      "text/plain": [
       "<Figure size 200x300 with 1 Axes>"
      ]
     },
     "metadata": {},
     "output_type": "display_data"
    },
    {
     "data": {
      "text/html": [
       "<div>\n",
       "<style scoped>\n",
       "    .dataframe tbody tr th:only-of-type {\n",
       "        vertical-align: middle;\n",
       "    }\n",
       "\n",
       "    .dataframe tbody tr th {\n",
       "        vertical-align: top;\n",
       "    }\n",
       "\n",
       "    .dataframe thead th {\n",
       "        text-align: right;\n",
       "    }\n",
       "</style>\n",
       "<table border=\"1\" class=\"dataframe\">\n",
       "  <thead>\n",
       "    <tr style=\"text-align: right;\">\n",
       "      <th></th>\n",
       "      <th>Holiday_Flag</th>\n",
       "      <th>Weekly_Sales</th>\n",
       "    </tr>\n",
       "  </thead>\n",
       "  <tbody>\n",
       "    <tr>\n",
       "      <th>0</th>\n",
       "      <td>0.0</td>\n",
       "      <td>1.253356e+06</td>\n",
       "    </tr>\n",
       "    <tr>\n",
       "      <th>1</th>\n",
       "      <td>1.0</td>\n",
       "      <td>1.347476e+06</td>\n",
       "    </tr>\n",
       "  </tbody>\n",
       "</table>\n",
       "</div>"
      ],
      "text/plain": [
       "   Holiday_Flag  Weekly_Sales\n",
       "0           0.0  1.253356e+06\n",
       "1           1.0  1.347476e+06"
      ]
     },
     "metadata": {},
     "output_type": "display_data"
    }
   ],
   "source": [
    "sns.set(rc={'figure.figsize':(2, 3)}, style='white')\n",
    "colors = sns.color_palette('cool')\n",
    "sns.barplot(x=\"Holiday_Flag\", y=\"Weekly_Sales\", data=dataset_final, palette=colors, edgecolor='black', width=1)\n",
    "plt.title('Weekly sales depending on holidays', fontsize=11, pad=20)\n",
    "plt.ylabel('Million $', fontsize=9, fontweight='bold')\n",
    "plt.xlabel('')\n",
    "plt.yticks([i for i in range(0,1900000, 200000)], fontsize=10)\n",
    "plt.xticks([i for i in range(0,2)], ['Normal day', 'Holiday'], fontsize=9.5, fontweight='bold')\n",
    "plt.legend('', frameon=False)\n",
    "plt.show()\n",
    "\n",
    "weekly_sales_holiday = dataset_final.groupby('Holiday_Flag')['Weekly_Sales'].mean().to_frame().reset_index()\n",
    "display(weekly_sales_holiday)"
   ]
  },
  {
   "cell_type": "markdown",
   "metadata": {},
   "source": [
    "## Ventes & température"
   ]
  },
  {
   "cell_type": "code",
   "execution_count": 89,
   "metadata": {},
   "outputs": [
    {
     "data": {
      "image/png": "[encoded data removed]",
      "text/plain": [
       "<Figure size 600x400 with 1 Axes>"
      ]
     },
     "metadata": {},
     "output_type": "display_data"
    }
   ],
   "source": [
    "sns.set(rc={'figure.figsize':(6, 4)}, style='white')\n",
    "colors = sns.color_palette('bright')\n",
    "sns.scatterplot(data=dataset_final, x=dataset_final['Temperature'], y=dataset_final['Weekly_Sales'], hue=dataset_final['Holiday_Flag'], palette=colors)\n",
    "plt.show()"
   ]
  },
  {
   "cell_type": "markdown",
   "metadata": {},
   "source": [
    "## Ventes & prix de l'essence"
   ]
  },
  {
   "cell_type": "code",
   "execution_count": 90,
   "metadata": {},
   "outputs": [
    {
     "data": {
      "image/png": "[encoded data removed]",
      "text/plain": [
       "<Figure size 600x400 with 1 Axes>"
      ]
     },
     "metadata": {},
     "output_type": "display_data"
    }
   ],
   "source": [
    "sns.set(rc={'figure.figsize':(6, 4)}, style='white')\n",
    "colors = sns.color_palette('bright')\n",
    "sns.scatterplot(data=dataset_final, x=dataset_final['Fuel_Price'], y=dataset_final['Weekly_Sales'], hue=dataset_final['Holiday_Flag'], palette=colors)\n",
    "plt.legend('', frameon=False)\n",
    "plt.show()"
   ]
  },
  {
   "cell_type": "markdown",
   "metadata": {},
   "source": [
    "## Ventes & inflation\n",
    "\n",
    "On observe que lorque l'index d'inflation dépasse 200, les ventes hebdomadaires ne dépassent jamais les <span>$</span>2,5 millions.\n",
    "\n",
    "Au contraire, c'est lorsque l'index d'inflation est au plus bas (140) que les ventes hebdomadaires atteignent des records de plus de <span>$</span>2,5 millions."
   ]
  },
  {
   "cell_type": "code",
   "execution_count": 91,
   "metadata": {},
   "outputs": [
    {
     "data": {
      "image/png": "[encoded data removed]",
      "text/plain": [
       "<Figure size 600x400 with 1 Axes>"
      ]
     },
     "metadata": {},
     "output_type": "display_data"
    }
   ],
   "source": [
    "sns.set(rc={'figure.figsize':(6, 4)}, style='white')\n",
    "colors = sns.color_palette('bright')\n",
    "sns.scatterplot(data=dataset_final, x=dataset_final['CPI'], y=dataset_final['Weekly_Sales'], hue=dataset_final['Holiday_Flag'], palette=colors)\n",
    "plt.legend('', frameon=False)\n",
    "plt.show()"
   ]
  },
  {
   "cell_type": "markdown",
   "metadata": {},
   "source": [
    "## Ventes et taux de chômage"
   ]
  },
  {
   "cell_type": "code",
   "execution_count": 92,
   "metadata": {},
   "outputs": [
    {
     "data": {
      "image/png": "[encoded data removed]",
      "text/plain": [
       "<Figure size 600x400 with 1 Axes>"
      ]
     },
     "metadata": {},
     "output_type": "display_data"
    }
   ],
   "source": [
    "sns.set(rc={'figure.figsize':(6, 4)}, style='white')\n",
    "colors = sns.color_palette('bright')\n",
    "sns.scatterplot(data=dataset_final, x=dataset_final['Unemployment'], y=dataset_final['Weekly_Sales'], hue=dataset_final['Holiday_Flag'], palette=colors)\n",
    "plt.legend('', frameon=False)\n",
    "plt.show()"
   ]
  },
  {
   "cell_type": "markdown",
   "metadata": {},
   "source": [
    "## Matrice de corrélation\n",
    "\n",
    "Nous construisons la matrice de corrélation mieux voir quels facteurs impactent les ventes hebdomadaires."
   ]
  },
  {
   "cell_type": "code",
   "execution_count": 93,
   "metadata": {},
   "outputs": [
    {
     "data": {
      "image/png": "[encoded data removed]",
      "text/plain": [
       "<Figure size 900x500 with 2 Axes>"
      ]
     },
     "metadata": {},
     "output_type": "display_data"
    }
   ],
   "source": [
    "corr_cols = ['Store', 'Day', 'Month', 'Year', 'Holiday_Flag', 'Temperature', 'Fuel_Price', 'CPI', 'Unemployment', 'Weekly_Sales']\n",
    "corr_df = dataset_final[corr_cols]\n",
    "corr = corr_df.corr()\n",
    "sns.set(rc={\"figure.figsize\":(9, 5)})\n",
    "sns.heatmap(\n",
    "    corr,\n",
    "    annot=True,\n",
    "    annot_kws={\"fontsize\":8}\n",
    ")\n",
    "plt.show()"
   ]
  },
  {
   "cell_type": "markdown",
   "metadata": {},
   "source": [
    "#### Résultats : \n",
    "\n",
    "- On observe que le taux de chômage a une influence positive sur les ventes hebdomadaires (coefficient de 0,20).\n",
    "\n",
    "- L'index d'inflation a une influence négative sur les ventes hebdomadaires (coefficient de -0,35).\n",
    "\n",
    "- La température a également une influence négative sur les ventes hebdomadaires (coefficient de -0,18).\n",
    "\n",
    "- Les autres variables ont une influence négligeable sur les ventes."
   ]
  },
  {
   "cell_type": "markdown",
   "metadata": {},
   "source": [
    "## Enregistrement fichier csv"
   ]
  },
  {
   "cell_type": "code",
   "execution_count": 94,
   "metadata": {},
   "outputs": [],
   "source": [
    "dataset_final.to_csv('./src/dataset_for_ml.csv', index=False)"
   ]
  },
  {
   "cell_type": "code",
   "execution_count": null,
   "metadata": {},
   "outputs": [],
   "source": []
  }
 ],
 "metadata": {
  "kernelspec": {
   "display_name": "ml",
   "language": "python",
   "name": "python3"
  },
  "language_info": {
   "codemirror_mode": {
    "name": "ipython",
    "version": 3
   },
   "file_extension": ".py",
   "mimetype": "text/x-python",
   "name": "python",
   "nbconvert_exporter": "python",
   "pygments_lexer": "ipython3",
   "version": "3.12.1"
  }
 },
 "nbformat": 4,
 "nbformat_minor": 2
}
